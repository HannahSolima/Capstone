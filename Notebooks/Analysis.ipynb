{
 "cells": [
  {
   "cell_type": "code",
   "execution_count": 1,
   "id": "209ae2a0",
   "metadata": {},
   "outputs": [],
   "source": [
    "import requests\n",
    "import re\n",
    "from bs4 import BeautifulSoup as BS\n",
    "from IPython.core.display import HTML\n",
    "import pandas as pd\n",
    "import numpy as np\n",
    "import matplotlib.pyplot as plt\n",
    "import seaborn as sns\n",
    "%matplotlib inline"
   ]
  },
  {
   "cell_type": "markdown",
   "id": "c70f8ca3",
   "metadata": {},
   "source": [
    "# Read in Data"
   ]
  },
  {
   "cell_type": "code",
   "execution_count": 2,
   "id": "9c1bedf4",
   "metadata": {},
   "outputs": [],
   "source": [
    "movie = pd.read_csv(\"../Data/IMDb_Movies.csv\")"
   ]
  },
  {
   "cell_type": "code",
   "execution_count": 3,
   "id": "7b5c4f34",
   "metadata": {},
   "outputs": [],
   "source": [
    "score = pd.read_csv(\"../Data/IMDb_Score.csv\")"
   ]
  },
  {
   "cell_type": "code",
   "execution_count": 4,
   "id": "25e2f279",
   "metadata": {},
   "outputs": [],
   "source": [
    "rt = pd.read_csv(\"../Data/Rotten_Tomatoes.csv\")"
   ]
  },
  {
   "cell_type": "markdown",
   "id": "e36dbdfb",
   "metadata": {},
   "source": [
    "### Movie and RT combined"
   ]
  },
  {
   "cell_type": "code",
   "execution_count": 5,
   "id": "30728dd9",
   "metadata": {},
   "outputs": [
    {
     "data": {
      "text/html": [
       "<div>\n",
       "<style scoped>\n",
       "    .dataframe tbody tr th:only-of-type {\n",
       "        vertical-align: middle;\n",
       "    }\n",
       "\n",
       "    .dataframe tbody tr th {\n",
       "        vertical-align: top;\n",
       "    }\n",
       "\n",
       "    .dataframe thead th {\n",
       "        text-align: right;\n",
       "    }\n",
       "</style>\n",
       "<table border=\"1\" class=\"dataframe\">\n",
       "  <thead>\n",
       "    <tr style=\"text-align: right;\">\n",
       "      <th></th>\n",
       "      <th>Title_ID</th>\n",
       "      <th>Title</th>\n",
       "      <th>Director</th>\n",
       "      <th>Rating</th>\n",
       "      <th>Genre</th>\n",
       "      <th>Runtime</th>\n",
       "      <th>Release_Year</th>\n",
       "      <th>Award_Noms</th>\n",
       "      <th>Award_Wins</th>\n",
       "      <th>Score_ID</th>\n",
       "      <th>Tomatometer</th>\n",
       "      <th>RT_Audience_Score</th>\n",
       "      <th>RT_Critic_Reviews</th>\n",
       "      <th>RT_Audience_Reviews</th>\n",
       "      <th>US_Box_Office</th>\n",
       "      <th>Distributor</th>\n",
       "      <th>Original_Language</th>\n",
       "      <th>RT_All_Pct</th>\n",
       "    </tr>\n",
       "  </thead>\n",
       "  <tbody>\n",
       "    <tr>\n",
       "      <th>0</th>\n",
       "      <td>17761</td>\n",
       "      <td>The Shawshank Redemption</td>\n",
       "      <td>Frank Darabont</td>\n",
       "      <td>R</td>\n",
       "      <td>Drama</td>\n",
       "      <td>142</td>\n",
       "      <td>1994</td>\n",
       "      <td>43</td>\n",
       "      <td>21</td>\n",
       "      <td>7041</td>\n",
       "      <td>91</td>\n",
       "      <td>98</td>\n",
       "      <td>82</td>\n",
       "      <td>250k+</td>\n",
       "      <td>$27.3M</td>\n",
       "      <td>Columbia Pictures</td>\n",
       "      <td>English</td>\n",
       "      <td>94.5</td>\n",
       "    </tr>\n",
       "    <tr>\n",
       "      <th>1</th>\n",
       "      <td>17762</td>\n",
       "      <td>The Godfather</td>\n",
       "      <td>Francis Ford Coppola</td>\n",
       "      <td>R</td>\n",
       "      <td>Crime, Drama</td>\n",
       "      <td>175</td>\n",
       "      <td>1972</td>\n",
       "      <td>30</td>\n",
       "      <td>32</td>\n",
       "      <td>7042</td>\n",
       "      <td>97</td>\n",
       "      <td>98</td>\n",
       "      <td>149</td>\n",
       "      <td>250k+</td>\n",
       "      <td>$134.8M</td>\n",
       "      <td>Paramount Pictures</td>\n",
       "      <td>English</td>\n",
       "      <td>97.5</td>\n",
       "    </tr>\n",
       "    <tr>\n",
       "      <th>2</th>\n",
       "      <td>17763</td>\n",
       "      <td>The Dark Knight</td>\n",
       "      <td>Christopher Nolan</td>\n",
       "      <td>PG-13</td>\n",
       "      <td>Action, Crime, Drama</td>\n",
       "      <td>152</td>\n",
       "      <td>2008</td>\n",
       "      <td>163</td>\n",
       "      <td>160</td>\n",
       "      <td>7043</td>\n",
       "      <td>94</td>\n",
       "      <td>94</td>\n",
       "      <td>345</td>\n",
       "      <td>250k+</td>\n",
       "      <td>$2.0M</td>\n",
       "      <td>Warner Bros.</td>\n",
       "      <td>English</td>\n",
       "      <td>94.0</td>\n",
       "    </tr>\n",
       "    <tr>\n",
       "      <th>3</th>\n",
       "      <td>17764</td>\n",
       "      <td>The Godfather Part II</td>\n",
       "      <td>Francis Ford Coppola</td>\n",
       "      <td>R</td>\n",
       "      <td>Crime, Drama</td>\n",
       "      <td>202</td>\n",
       "      <td>1974</td>\n",
       "      <td>21</td>\n",
       "      <td>17</td>\n",
       "      <td>7044</td>\n",
       "      <td>96</td>\n",
       "      <td>97</td>\n",
       "      <td>123</td>\n",
       "      <td>250k+</td>\n",
       "      <td>Not Available</td>\n",
       "      <td>Paramount Pictures</td>\n",
       "      <td>English</td>\n",
       "      <td>96.5</td>\n",
       "    </tr>\n",
       "    <tr>\n",
       "      <th>4</th>\n",
       "      <td>17765</td>\n",
       "      <td>12 Angry Men</td>\n",
       "      <td>Sidney Lumet</td>\n",
       "      <td>Approved</td>\n",
       "      <td>Crime, Drama</td>\n",
       "      <td>96</td>\n",
       "      <td>1957</td>\n",
       "      <td>13</td>\n",
       "      <td>17</td>\n",
       "      <td>7045</td>\n",
       "      <td>100</td>\n",
       "      <td>97</td>\n",
       "      <td>58</td>\n",
       "      <td>100k+</td>\n",
       "      <td>Not Available</td>\n",
       "      <td>Criterion Collection, MGM/UA Home Entertainmen...</td>\n",
       "      <td>English</td>\n",
       "      <td>98.5</td>\n",
       "    </tr>\n",
       "  </tbody>\n",
       "</table>\n",
       "</div>"
      ],
      "text/plain": [
       "   Title_ID                     Title              Director    Rating  \\\n",
       "0     17761  The Shawshank Redemption        Frank Darabont         R   \n",
       "1     17762             The Godfather  Francis Ford Coppola         R   \n",
       "2     17763           The Dark Knight     Christopher Nolan     PG-13   \n",
       "3     17764     The Godfather Part II  Francis Ford Coppola         R   \n",
       "4     17765              12 Angry Men          Sidney Lumet  Approved   \n",
       "\n",
       "                  Genre  Runtime  Release_Year  Award_Noms  Award_Wins  \\\n",
       "0                 Drama      142          1994          43          21   \n",
       "1          Crime, Drama      175          1972          30          32   \n",
       "2  Action, Crime, Drama      152          2008         163         160   \n",
       "3          Crime, Drama      202          1974          21          17   \n",
       "4          Crime, Drama       96          1957          13          17   \n",
       "\n",
       "   Score_ID  Tomatometer  RT_Audience_Score  RT_Critic_Reviews  \\\n",
       "0      7041           91                 98                 82   \n",
       "1      7042           97                 98                149   \n",
       "2      7043           94                 94                345   \n",
       "3      7044           96                 97                123   \n",
       "4      7045          100                 97                 58   \n",
       "\n",
       "  RT_Audience_Reviews  US_Box_Office  \\\n",
       "0               250k+         $27.3M   \n",
       "1               250k+        $134.8M   \n",
       "2               250k+          $2.0M   \n",
       "3               250k+  Not Available   \n",
       "4               100k+  Not Available   \n",
       "\n",
       "                                         Distributor Original_Language  \\\n",
       "0                                  Columbia Pictures           English   \n",
       "1                                 Paramount Pictures           English   \n",
       "2                                       Warner Bros.           English   \n",
       "3                                 Paramount Pictures           English   \n",
       "4  Criterion Collection, MGM/UA Home Entertainmen...           English   \n",
       "\n",
       "   RT_All_Pct  \n",
       "0        94.5  \n",
       "1        97.5  \n",
       "2        94.0  \n",
       "3        96.5  \n",
       "4        98.5  "
      ]
     },
     "execution_count": 5,
     "metadata": {},
     "output_type": "execute_result"
    }
   ],
   "source": [
    "m_rt = movie.merge(rt, how = 'outer', on = 'Title_ID')\n",
    "m_rt.head()"
   ]
  },
  {
   "cell_type": "markdown",
   "id": "40325751",
   "metadata": {},
   "source": [
    "### Movie and Score Combined"
   ]
  },
  {
   "cell_type": "code",
   "execution_count": 6,
   "id": "0d77dea0",
   "metadata": {},
   "outputs": [
    {
     "data": {
      "text/html": [
       "<div>\n",
       "<style scoped>\n",
       "    .dataframe tbody tr th:only-of-type {\n",
       "        vertical-align: middle;\n",
       "    }\n",
       "\n",
       "    .dataframe tbody tr th {\n",
       "        vertical-align: top;\n",
       "    }\n",
       "\n",
       "    .dataframe thead th {\n",
       "        text-align: right;\n",
       "    }\n",
       "</style>\n",
       "<table border=\"1\" class=\"dataframe\">\n",
       "  <thead>\n",
       "    <tr style=\"text-align: right;\">\n",
       "      <th></th>\n",
       "      <th>Title_ID</th>\n",
       "      <th>Title</th>\n",
       "      <th>Director</th>\n",
       "      <th>Rating</th>\n",
       "      <th>Genre</th>\n",
       "      <th>Runtime</th>\n",
       "      <th>Release_Year</th>\n",
       "      <th>Award_Noms</th>\n",
       "      <th>Award_Wins</th>\n",
       "      <th>Score_ID</th>\n",
       "      <th>IMDb_Score</th>\n",
       "      <th>Audience_Reviews</th>\n",
       "      <th>US_Users</th>\n",
       "      <th>Non_US_Users</th>\n",
       "      <th>Male_Reviews</th>\n",
       "      <th>Female_Reviews</th>\n",
       "      <th>Male_Score</th>\n",
       "      <th>Female_Score</th>\n",
       "      <th>IMDb_Score_Pct</th>\n",
       "    </tr>\n",
       "  </thead>\n",
       "  <tbody>\n",
       "    <tr>\n",
       "      <th>0</th>\n",
       "      <td>17761</td>\n",
       "      <td>The Shawshank Redemption</td>\n",
       "      <td>Frank Darabont</td>\n",
       "      <td>R</td>\n",
       "      <td>Drama</td>\n",
       "      <td>142</td>\n",
       "      <td>1994</td>\n",
       "      <td>43</td>\n",
       "      <td>21</td>\n",
       "      <td>7041</td>\n",
       "      <td>9.3</td>\n",
       "      <td>2666904</td>\n",
       "      <td>566032</td>\n",
       "      <td>1672983</td>\n",
       "      <td>1475251</td>\n",
       "      <td>294889</td>\n",
       "      <td>9.3</td>\n",
       "      <td>9.2</td>\n",
       "      <td>93</td>\n",
       "    </tr>\n",
       "    <tr>\n",
       "      <th>1</th>\n",
       "      <td>17762</td>\n",
       "      <td>The Godfather</td>\n",
       "      <td>Francis Ford Coppola</td>\n",
       "      <td>R</td>\n",
       "      <td>Crime, Drama</td>\n",
       "      <td>175</td>\n",
       "      <td>1972</td>\n",
       "      <td>30</td>\n",
       "      <td>32</td>\n",
       "      <td>7042</td>\n",
       "      <td>9.2</td>\n",
       "      <td>1848055</td>\n",
       "      <td>417566</td>\n",
       "      <td>1161734</td>\n",
       "      <td>1072921</td>\n",
       "      <td>166441</td>\n",
       "      <td>9.2</td>\n",
       "      <td>8.9</td>\n",
       "      <td>92</td>\n",
       "    </tr>\n",
       "    <tr>\n",
       "      <th>2</th>\n",
       "      <td>17763</td>\n",
       "      <td>The Dark Knight</td>\n",
       "      <td>Christopher Nolan</td>\n",
       "      <td>PG-13</td>\n",
       "      <td>Action, Crime, Drama</td>\n",
       "      <td>152</td>\n",
       "      <td>2008</td>\n",
       "      <td>163</td>\n",
       "      <td>160</td>\n",
       "      <td>7043</td>\n",
       "      <td>9.0</td>\n",
       "      <td>2639814</td>\n",
       "      <td>621027</td>\n",
       "      <td>1646769</td>\n",
       "      <td>1490958</td>\n",
       "      <td>267216</td>\n",
       "      <td>9.0</td>\n",
       "      <td>8.7</td>\n",
       "      <td>90</td>\n",
       "    </tr>\n",
       "    <tr>\n",
       "      <th>3</th>\n",
       "      <td>17764</td>\n",
       "      <td>The Godfather Part II</td>\n",
       "      <td>Francis Ford Coppola</td>\n",
       "      <td>R</td>\n",
       "      <td>Crime, Drama</td>\n",
       "      <td>202</td>\n",
       "      <td>1974</td>\n",
       "      <td>21</td>\n",
       "      <td>17</td>\n",
       "      <td>7044</td>\n",
       "      <td>9.0</td>\n",
       "      <td>1265636</td>\n",
       "      <td>282291</td>\n",
       "      <td>805848</td>\n",
       "      <td>759883</td>\n",
       "      <td>105690</td>\n",
       "      <td>9.0</td>\n",
       "      <td>8.7</td>\n",
       "      <td>90</td>\n",
       "    </tr>\n",
       "    <tr>\n",
       "      <th>4</th>\n",
       "      <td>17765</td>\n",
       "      <td>12 Angry Men</td>\n",
       "      <td>Sidney Lumet</td>\n",
       "      <td>Approved</td>\n",
       "      <td>Crime, Drama</td>\n",
       "      <td>96</td>\n",
       "      <td>1957</td>\n",
       "      <td>13</td>\n",
       "      <td>17</td>\n",
       "      <td>7045</td>\n",
       "      <td>9.0</td>\n",
       "      <td>787589</td>\n",
       "      <td>187528</td>\n",
       "      <td>509017</td>\n",
       "      <td>453568</td>\n",
       "      <td>76860</td>\n",
       "      <td>9.0</td>\n",
       "      <td>8.9</td>\n",
       "      <td>90</td>\n",
       "    </tr>\n",
       "  </tbody>\n",
       "</table>\n",
       "</div>"
      ],
      "text/plain": [
       "   Title_ID                     Title              Director    Rating  \\\n",
       "0     17761  The Shawshank Redemption        Frank Darabont         R   \n",
       "1     17762             The Godfather  Francis Ford Coppola         R   \n",
       "2     17763           The Dark Knight     Christopher Nolan     PG-13   \n",
       "3     17764     The Godfather Part II  Francis Ford Coppola         R   \n",
       "4     17765              12 Angry Men          Sidney Lumet  Approved   \n",
       "\n",
       "                  Genre  Runtime  Release_Year  Award_Noms  Award_Wins  \\\n",
       "0                 Drama      142          1994          43          21   \n",
       "1          Crime, Drama      175          1972          30          32   \n",
       "2  Action, Crime, Drama      152          2008         163         160   \n",
       "3          Crime, Drama      202          1974          21          17   \n",
       "4          Crime, Drama       96          1957          13          17   \n",
       "\n",
       "   Score_ID  IMDb_Score  Audience_Reviews  US_Users  Non_US_Users  \\\n",
       "0      7041         9.3           2666904    566032       1672983   \n",
       "1      7042         9.2           1848055    417566       1161734   \n",
       "2      7043         9.0           2639814    621027       1646769   \n",
       "3      7044         9.0           1265636    282291        805848   \n",
       "4      7045         9.0            787589    187528        509017   \n",
       "\n",
       "   Male_Reviews  Female_Reviews  Male_Score  Female_Score  IMDb_Score_Pct  \n",
       "0       1475251          294889         9.3           9.2              93  \n",
       "1       1072921          166441         9.2           8.9              92  \n",
       "2       1490958          267216         9.0           8.7              90  \n",
       "3        759883          105690         9.0           8.7              90  \n",
       "4        453568           76860         9.0           8.9              90  "
      ]
     },
     "execution_count": 6,
     "metadata": {},
     "output_type": "execute_result"
    }
   ],
   "source": [
    "m_s = movie.merge(score, how = 'outer', on = 'Score_ID')\n",
    "m_s.head()"
   ]
  },
  {
   "cell_type": "markdown",
   "id": "3eb436f7",
   "metadata": {},
   "source": [
    "### Movie, Score, and RT in One DataFrame"
   ]
  },
  {
   "cell_type": "code",
   "execution_count": 7,
   "id": "ef04fc30",
   "metadata": {},
   "outputs": [
    {
     "data": {
      "text/html": [
       "<div>\n",
       "<style scoped>\n",
       "    .dataframe tbody tr th:only-of-type {\n",
       "        vertical-align: middle;\n",
       "    }\n",
       "\n",
       "    .dataframe tbody tr th {\n",
       "        vertical-align: top;\n",
       "    }\n",
       "\n",
       "    .dataframe thead th {\n",
       "        text-align: right;\n",
       "    }\n",
       "</style>\n",
       "<table border=\"1\" class=\"dataframe\">\n",
       "  <thead>\n",
       "    <tr style=\"text-align: right;\">\n",
       "      <th></th>\n",
       "      <th>Title_ID</th>\n",
       "      <th>Title</th>\n",
       "      <th>Director</th>\n",
       "      <th>Rating</th>\n",
       "      <th>Genre</th>\n",
       "      <th>Runtime</th>\n",
       "      <th>Release_Year</th>\n",
       "      <th>Award_Noms</th>\n",
       "      <th>Award_Wins</th>\n",
       "      <th>Score_ID</th>\n",
       "      <th>...</th>\n",
       "      <th>RT_All_Pct</th>\n",
       "      <th>IMDb_Score</th>\n",
       "      <th>Audience_Reviews</th>\n",
       "      <th>US_Users</th>\n",
       "      <th>Non_US_Users</th>\n",
       "      <th>Male_Reviews</th>\n",
       "      <th>Female_Reviews</th>\n",
       "      <th>Male_Score</th>\n",
       "      <th>Female_Score</th>\n",
       "      <th>IMDb_Score_Pct</th>\n",
       "    </tr>\n",
       "  </thead>\n",
       "  <tbody>\n",
       "    <tr>\n",
       "      <th>0</th>\n",
       "      <td>17761</td>\n",
       "      <td>The Shawshank Redemption</td>\n",
       "      <td>Frank Darabont</td>\n",
       "      <td>R</td>\n",
       "      <td>Drama</td>\n",
       "      <td>142</td>\n",
       "      <td>1994</td>\n",
       "      <td>43</td>\n",
       "      <td>21</td>\n",
       "      <td>7041</td>\n",
       "      <td>...</td>\n",
       "      <td>94.5</td>\n",
       "      <td>9.3</td>\n",
       "      <td>2666904</td>\n",
       "      <td>566032</td>\n",
       "      <td>1672983</td>\n",
       "      <td>1475251</td>\n",
       "      <td>294889</td>\n",
       "      <td>9.3</td>\n",
       "      <td>9.2</td>\n",
       "      <td>93</td>\n",
       "    </tr>\n",
       "    <tr>\n",
       "      <th>1</th>\n",
       "      <td>17762</td>\n",
       "      <td>The Godfather</td>\n",
       "      <td>Francis Ford Coppola</td>\n",
       "      <td>R</td>\n",
       "      <td>Crime, Drama</td>\n",
       "      <td>175</td>\n",
       "      <td>1972</td>\n",
       "      <td>30</td>\n",
       "      <td>32</td>\n",
       "      <td>7042</td>\n",
       "      <td>...</td>\n",
       "      <td>97.5</td>\n",
       "      <td>9.2</td>\n",
       "      <td>1848055</td>\n",
       "      <td>417566</td>\n",
       "      <td>1161734</td>\n",
       "      <td>1072921</td>\n",
       "      <td>166441</td>\n",
       "      <td>9.2</td>\n",
       "      <td>8.9</td>\n",
       "      <td>92</td>\n",
       "    </tr>\n",
       "    <tr>\n",
       "      <th>2</th>\n",
       "      <td>17763</td>\n",
       "      <td>The Dark Knight</td>\n",
       "      <td>Christopher Nolan</td>\n",
       "      <td>PG-13</td>\n",
       "      <td>Action, Crime, Drama</td>\n",
       "      <td>152</td>\n",
       "      <td>2008</td>\n",
       "      <td>163</td>\n",
       "      <td>160</td>\n",
       "      <td>7043</td>\n",
       "      <td>...</td>\n",
       "      <td>94.0</td>\n",
       "      <td>9.0</td>\n",
       "      <td>2639814</td>\n",
       "      <td>621027</td>\n",
       "      <td>1646769</td>\n",
       "      <td>1490958</td>\n",
       "      <td>267216</td>\n",
       "      <td>9.0</td>\n",
       "      <td>8.7</td>\n",
       "      <td>90</td>\n",
       "    </tr>\n",
       "    <tr>\n",
       "      <th>3</th>\n",
       "      <td>17764</td>\n",
       "      <td>The Godfather Part II</td>\n",
       "      <td>Francis Ford Coppola</td>\n",
       "      <td>R</td>\n",
       "      <td>Crime, Drama</td>\n",
       "      <td>202</td>\n",
       "      <td>1974</td>\n",
       "      <td>21</td>\n",
       "      <td>17</td>\n",
       "      <td>7044</td>\n",
       "      <td>...</td>\n",
       "      <td>96.5</td>\n",
       "      <td>9.0</td>\n",
       "      <td>1265636</td>\n",
       "      <td>282291</td>\n",
       "      <td>805848</td>\n",
       "      <td>759883</td>\n",
       "      <td>105690</td>\n",
       "      <td>9.0</td>\n",
       "      <td>8.7</td>\n",
       "      <td>90</td>\n",
       "    </tr>\n",
       "    <tr>\n",
       "      <th>4</th>\n",
       "      <td>17765</td>\n",
       "      <td>12 Angry Men</td>\n",
       "      <td>Sidney Lumet</td>\n",
       "      <td>Approved</td>\n",
       "      <td>Crime, Drama</td>\n",
       "      <td>96</td>\n",
       "      <td>1957</td>\n",
       "      <td>13</td>\n",
       "      <td>17</td>\n",
       "      <td>7045</td>\n",
       "      <td>...</td>\n",
       "      <td>98.5</td>\n",
       "      <td>9.0</td>\n",
       "      <td>787589</td>\n",
       "      <td>187528</td>\n",
       "      <td>509017</td>\n",
       "      <td>453568</td>\n",
       "      <td>76860</td>\n",
       "      <td>9.0</td>\n",
       "      <td>8.9</td>\n",
       "      <td>90</td>\n",
       "    </tr>\n",
       "  </tbody>\n",
       "</table>\n",
       "<p>5 rows × 27 columns</p>\n",
       "</div>"
      ],
      "text/plain": [
       "   Title_ID                     Title              Director    Rating  \\\n",
       "0     17761  The Shawshank Redemption        Frank Darabont         R   \n",
       "1     17762             The Godfather  Francis Ford Coppola         R   \n",
       "2     17763           The Dark Knight     Christopher Nolan     PG-13   \n",
       "3     17764     The Godfather Part II  Francis Ford Coppola         R   \n",
       "4     17765              12 Angry Men          Sidney Lumet  Approved   \n",
       "\n",
       "                  Genre  Runtime  Release_Year  Award_Noms  Award_Wins  \\\n",
       "0                 Drama      142          1994          43          21   \n",
       "1          Crime, Drama      175          1972          30          32   \n",
       "2  Action, Crime, Drama      152          2008         163         160   \n",
       "3          Crime, Drama      202          1974          21          17   \n",
       "4          Crime, Drama       96          1957          13          17   \n",
       "\n",
       "   Score_ID  ...  RT_All_Pct  IMDb_Score  Audience_Reviews US_Users  \\\n",
       "0      7041  ...        94.5         9.3           2666904   566032   \n",
       "1      7042  ...        97.5         9.2           1848055   417566   \n",
       "2      7043  ...        94.0         9.0           2639814   621027   \n",
       "3      7044  ...        96.5         9.0           1265636   282291   \n",
       "4      7045  ...        98.5         9.0            787589   187528   \n",
       "\n",
       "  Non_US_Users Male_Reviews Female_Reviews  Male_Score  Female_Score  \\\n",
       "0      1672983      1475251         294889         9.3           9.2   \n",
       "1      1161734      1072921         166441         9.2           8.9   \n",
       "2      1646769      1490958         267216         9.0           8.7   \n",
       "3       805848       759883         105690         9.0           8.7   \n",
       "4       509017       453568          76860         9.0           8.9   \n",
       "\n",
       "   IMDb_Score_Pct  \n",
       "0              93  \n",
       "1              92  \n",
       "2              90  \n",
       "3              90  \n",
       "4              90  \n",
       "\n",
       "[5 rows x 27 columns]"
      ]
     },
     "execution_count": 7,
     "metadata": {},
     "output_type": "execute_result"
    }
   ],
   "source": [
    "all_df = m_rt.merge(score, how = \"left\", on = \"Score_ID\")\n",
    "all_df.head()"
   ]
  },
  {
   "cell_type": "markdown",
   "id": "7fb55bba",
   "metadata": {},
   "source": [
    "# How do the Top 250 Movies by IMDb compare to Rotten Tomatoes?"
   ]
  },
  {
   "cell_type": "markdown",
   "id": "4793ff6b",
   "metadata": {},
   "source": [
    "## Question 1: What is the average rating by genre for both IMDb and Rotten Tomatoes?"
   ]
  },
  {
   "cell_type": "code",
   "execution_count": null,
   "id": "25665365",
   "metadata": {},
   "outputs": [],
   "source": []
  },
  {
   "cell_type": "markdown",
   "id": "fb98eb5b",
   "metadata": {},
   "source": [
    "## Question 2: Which movies won the most awards?"
   ]
  },
  {
   "cell_type": "code",
   "execution_count": 8,
   "id": "10092b0c",
   "metadata": {
    "scrolled": false
   },
   "outputs": [
    {
     "data": {
      "text/html": [
       "<div>\n",
       "<style scoped>\n",
       "    .dataframe tbody tr th:only-of-type {\n",
       "        vertical-align: middle;\n",
       "    }\n",
       "\n",
       "    .dataframe tbody tr th {\n",
       "        vertical-align: top;\n",
       "    }\n",
       "\n",
       "    .dataframe thead th {\n",
       "        text-align: right;\n",
       "    }\n",
       "</style>\n",
       "<table border=\"1\" class=\"dataframe\">\n",
       "  <thead>\n",
       "    <tr style=\"text-align: right;\">\n",
       "      <th></th>\n",
       "      <th>Title</th>\n",
       "      <th>RT_All_Pct</th>\n",
       "      <th>IMDb_Score_Pct</th>\n",
       "      <th>Award_Noms</th>\n",
       "      <th>Award_Wins</th>\n",
       "    </tr>\n",
       "  </thead>\n",
       "  <tbody>\n",
       "    <tr>\n",
       "      <th>33</th>\n",
       "      <td>Parasite</td>\n",
       "      <td>94.5</td>\n",
       "      <td>85</td>\n",
       "      <td>271</td>\n",
       "      <td>308</td>\n",
       "    </tr>\n",
       "    <tr>\n",
       "      <th>199</th>\n",
       "      <td>Mad Max: Fury Road</td>\n",
       "      <td>91.5</td>\n",
       "      <td>81</td>\n",
       "      <td>234</td>\n",
       "      <td>247</td>\n",
       "    </tr>\n",
       "    <tr>\n",
       "      <th>179</th>\n",
       "      <td>12 Years a Slave</td>\n",
       "      <td>92.5</td>\n",
       "      <td>81</td>\n",
       "      <td>337</td>\n",
       "      <td>242</td>\n",
       "    </tr>\n",
       "    <tr>\n",
       "      <th>6</th>\n",
       "      <td>The Lord of the Rings: The Return of the King</td>\n",
       "      <td>89.5</td>\n",
       "      <td>90</td>\n",
       "      <td>124</td>\n",
       "      <td>209</td>\n",
       "    </tr>\n",
       "    <tr>\n",
       "      <th>151</th>\n",
       "      <td>No Country for Old Men</td>\n",
       "      <td>89.5</td>\n",
       "      <td>82</td>\n",
       "      <td>140</td>\n",
       "      <td>164</td>\n",
       "    </tr>\n",
       "    <tr>\n",
       "      <th>2</th>\n",
       "      <td>The Dark Knight</td>\n",
       "      <td>94.0</td>\n",
       "      <td>90</td>\n",
       "      <td>163</td>\n",
       "      <td>160</td>\n",
       "    </tr>\n",
       "    <tr>\n",
       "      <th>13</th>\n",
       "      <td>Inception</td>\n",
       "      <td>89.0</td>\n",
       "      <td>88</td>\n",
       "      <td>220</td>\n",
       "      <td>158</td>\n",
       "    </tr>\n",
       "    <tr>\n",
       "      <th>186</th>\n",
       "      <td>The Grand Budapest Hotel</td>\n",
       "      <td>89.0</td>\n",
       "      <td>81</td>\n",
       "      <td>227</td>\n",
       "      <td>136</td>\n",
       "    </tr>\n",
       "    <tr>\n",
       "      <th>122</th>\n",
       "      <td>1917</td>\n",
       "      <td>88.5</td>\n",
       "      <td>82</td>\n",
       "      <td>206</td>\n",
       "      <td>135</td>\n",
       "    </tr>\n",
       "    <tr>\n",
       "      <th>72</th>\n",
       "      <td>Inglourious Basterds</td>\n",
       "      <td>88.5</td>\n",
       "      <td>83</td>\n",
       "      <td>172</td>\n",
       "      <td>134</td>\n",
       "    </tr>\n",
       "  </tbody>\n",
       "</table>\n",
       "</div>"
      ],
      "text/plain": [
       "                                             Title  RT_All_Pct  \\\n",
       "33                                        Parasite        94.5   \n",
       "199                             Mad Max: Fury Road        91.5   \n",
       "179                               12 Years a Slave        92.5   \n",
       "6    The Lord of the Rings: The Return of the King        89.5   \n",
       "151                         No Country for Old Men        89.5   \n",
       "2                                  The Dark Knight        94.0   \n",
       "13                                       Inception        89.0   \n",
       "186                       The Grand Budapest Hotel        89.0   \n",
       "122                                           1917        88.5   \n",
       "72                            Inglourious Basterds        88.5   \n",
       "\n",
       "     IMDb_Score_Pct  Award_Noms  Award_Wins  \n",
       "33               85         271         308  \n",
       "199              81         234         247  \n",
       "179              81         337         242  \n",
       "6                90         124         209  \n",
       "151              82         140         164  \n",
       "2                90         163         160  \n",
       "13               88         220         158  \n",
       "186              81         227         136  \n",
       "122              82         206         135  \n",
       "72               83         172         134  "
      ]
     },
     "execution_count": 8,
     "metadata": {},
     "output_type": "execute_result"
    }
   ],
   "source": [
    "movie_award = all_df[['Title','RT_All_Pct','IMDb_Score_Pct','Award_Noms', 'Award_Wins']].nlargest(10, 'Award_Wins')\n",
    "movie_award"
   ]
  },
  {
   "cell_type": "markdown",
   "id": "08af5b3a",
   "metadata": {},
   "source": [
    "ANSWER: <br>\n",
    "1. Parasite <br>\n",
    "2. Mad Max: Fury Road <br>\n",
    "3. 12 Years a Slave <br>\n",
    "4. LOTR: The Return of the King <br>\n",
    "5. No Country for Old Men <br>\n",
    "6. The Dark Knight <br>\n",
    "7. Inception <br>\n",
    "8. The Grand Budapest Hotel <br>\n",
    "9. 1917 <br>\n",
    "10. Inglourious Basterds <br>"
   ]
  },
  {
   "cell_type": "markdown",
   "id": "42fa2a87",
   "metadata": {},
   "source": [
    "## Did they receive a high rating on IMDb? What about Rotten Tomatoes?"
   ]
  },
  {
   "cell_type": "markdown",
   "id": "8b6631ad",
   "metadata": {},
   "source": [
    "IMDb: LOTR, Dark Knight, and Inception rated higher on IMDb over the Parasite <br>\n",
    "RT_Aud: 12 Years a Slave received the same rating as Parasite, but Dark Knight and Inception have a higher rating <br>\n",
    "RT_Crit: Parasite was the fan favorite of critics"
   ]
  },
  {
   "cell_type": "markdown",
   "id": "80cb83bc",
   "metadata": {},
   "source": [
    "### <font color='royalblue'> Visual (Question 2) </font>"
   ]
  },
  {
   "cell_type": "code",
   "execution_count": 116,
   "id": "6fadfef2",
   "metadata": {},
   "outputs": [
    {
     "data": {
      "image/png": "[encoded data removed]",
      "text/plain": [
       "<Figure size 1008x720 with 1 Axes>"
      ]
     },
     "metadata": {},
     "output_type": "display_data"
    }
   ],
   "source": [
    "# set the font globally\n",
    "plt.rcParams.update({'font.family':'monospace'})\n",
    "\n",
    "# Create the y value and bar width \n",
    "y = np.arange(len(movie_award['Title']))\n",
    "width = 0.30\n",
    "\n",
    "# Define plot size\n",
    "plt.rcParams['figure.figsize'] = [14, 10]\n",
    "\n",
    "# Plot the x and y values\n",
    "fig,ax = plt.subplots()\n",
    "bar1 = ax.barh(y-width/2, movie_award['RT_All_Pct'], width, label = \"Rotten Tomatoes\", color = 'firebrick', edgecolor = 'black', linewidth = 1.2)\n",
    "bar2 = ax.barh(y+width/2, movie_award['IMDb_Score_Pct'], width, label = \"IMDb\", color = 'gold', edgecolor = 'black', linewidth = 1.2)\n",
    " \n",
    "# Set the y labels and legends\n",
    "ax.set_yticks(y)\n",
    "ax.set_yticklabels(movie_award['Title'], weight = 'bold', size = '16')\n",
    "ax.legend\n",
    "\n",
    "# Set the x labels\n",
    "ax.set_xlim(70, 100)\n",
    "ax.set_xticks([70,75,80,85,90,95,100])\n",
    "ax.set_xticklabels(['70','75','80','85','90','95','100'], weight = 'bold', size = '16')\n",
    "\n",
    "#title \n",
    "ax.set_title('Top 10 Award Winning Movies', weight = 'bold', size = '22')\n",
    "\n",
    "#Clustered Bar legend\n",
    "plt.legend([\"Rotten Tomatoes\", \"IMDb\"], ncol=1, loc=\"upper left\", bbox_to_anchor= (.72,1), fontsize = '16');"
   ]
  },
  {
   "cell_type": "markdown",
   "id": "58b8eb8d",
   "metadata": {},
   "source": [
    "## Question 3: On which site do more people tend to leave more reviews?"
   ]
  },
  {
   "cell_type": "code",
   "execution_count": null,
   "id": "7e22c929",
   "metadata": {},
   "outputs": [],
   "source": [
    "movie.groupby(['Title','Director','Rating"
   ]
  },
  {
   "cell_type": "markdown",
   "id": "d048b72a",
   "metadata": {},
   "source": [
    "# Further Analysis"
   ]
  },
  {
   "cell_type": "markdown",
   "id": "a22c9aac",
   "metadata": {},
   "source": [
    "## Question 4: What is the most prevalent genre?"
   ]
  },
  {
   "cell_type": "code",
   "execution_count": null,
   "id": "a2355dd8",
   "metadata": {},
   "outputs": [],
   "source": []
  },
  {
   "cell_type": "markdown",
   "id": "2dc907cb",
   "metadata": {},
   "source": [
    "## Question 5: What is the average length of the movies?"
   ]
  },
  {
   "cell_type": "code",
   "execution_count": null,
   "id": "c46eca80",
   "metadata": {},
   "outputs": [],
   "source": []
  },
  {
   "cell_type": "markdown",
   "id": "1009bb3c",
   "metadata": {},
   "source": [
    "#### The longest movie?"
   ]
  },
  {
   "cell_type": "code",
   "execution_count": null,
   "id": "b9e9212b",
   "metadata": {},
   "outputs": [],
   "source": []
  },
  {
   "cell_type": "markdown",
   "id": "79984209",
   "metadata": {},
   "source": [
    "#### The shortest movie?"
   ]
  },
  {
   "cell_type": "code",
   "execution_count": null,
   "id": "2978cd14",
   "metadata": {},
   "outputs": [],
   "source": []
  },
  {
   "cell_type": "markdown",
   "id": "9f251f7f",
   "metadata": {},
   "source": [
    "## Question 6: What is the average movie rating?"
   ]
  },
  {
   "cell_type": "code",
   "execution_count": null,
   "id": "ded95184",
   "metadata": {},
   "outputs": [],
   "source": []
  },
  {
   "cell_type": "markdown",
   "id": "a7d64a5f",
   "metadata": {},
   "source": [
    "## Question 7: What percentage of movies were \"approved\" with the Hayes Coded compared to newer movies with the MPAA modern rating system?"
   ]
  },
  {
   "cell_type": "code",
   "execution_count": null,
   "id": "fc847d49",
   "metadata": {},
   "outputs": [],
   "source": []
  },
  {
   "cell_type": "markdown",
   "id": "f14bbc1c",
   "metadata": {},
   "source": [
    "## Question 8: What is the range of years of the movies in the Top 250 List?"
   ]
  },
  {
   "cell_type": "code",
   "execution_count": null,
   "id": "bac3c025",
   "metadata": {},
   "outputs": [],
   "source": []
  },
  {
   "cell_type": "markdown",
   "id": "56679275",
   "metadata": {},
   "source": [
    "#### Are there outliers?"
   ]
  },
  {
   "cell_type": "code",
   "execution_count": null,
   "id": "e01f73fb",
   "metadata": {},
   "outputs": [],
   "source": []
  },
  {
   "cell_type": "markdown",
   "id": "0420a4d9",
   "metadata": {},
   "source": [
    "#### What decade were most films released in?"
   ]
  },
  {
   "cell_type": "code",
   "execution_count": null,
   "id": "e8bd7ece",
   "metadata": {},
   "outputs": [],
   "source": []
  },
  {
   "cell_type": "markdown",
   "id": "161209be",
   "metadata": {},
   "source": [
    "## Question 9: Which directors appear more than once?"
   ]
  },
  {
   "cell_type": "code",
   "execution_count": null,
   "id": "dd41ac44",
   "metadata": {},
   "outputs": [],
   "source": []
  },
  {
   "cell_type": "markdown",
   "id": "30543c5d",
   "metadata": {},
   "source": [
    "## Question 10: What is the average difference between critics' scores and audiences' scores on Rotten Tomotatoes?"
   ]
  },
  {
   "cell_type": "code",
   "execution_count": null,
   "id": "c91c8d34",
   "metadata": {},
   "outputs": [],
   "source": []
  },
  {
   "cell_type": "markdown",
   "id": "2c929af1",
   "metadata": {},
   "source": [
    "## Question 11: How do US-reviewers compare to non-US reviewers on IMDb?"
   ]
  },
  {
   "cell_type": "markdown",
   "id": "592d974a",
   "metadata": {},
   "source": [
    "#### Who tends to write more reviews?"
   ]
  },
  {
   "cell_type": "code",
   "execution_count": null,
   "id": "1bf51657",
   "metadata": {},
   "outputs": [],
   "source": []
  },
  {
   "cell_type": "markdown",
   "id": "1dcc464e",
   "metadata": {},
   "source": [
    "#### What is the average scores between the two?"
   ]
  },
  {
   "cell_type": "code",
   "execution_count": null,
   "id": "19f50963",
   "metadata": {},
   "outputs": [],
   "source": []
  },
  {
   "cell_type": "markdown",
   "id": "201b4a06",
   "metadata": {},
   "source": [
    "#### What genre interests US-reviewers more? What about non-US reviewers?"
   ]
  },
  {
   "cell_type": "code",
   "execution_count": null,
   "id": "34e8d26a",
   "metadata": {},
   "outputs": [],
   "source": []
  },
  {
   "cell_type": "markdown",
   "id": "806f4828",
   "metadata": {},
   "source": [
    "NOTE: important to note that the term US and non-US is based on the country the reviewer left the review...does not necessarily indicate that reviewers' citizenship"
   ]
  },
  {
   "cell_type": "markdown",
   "id": "bccca862",
   "metadata": {},
   "source": [
    "## Question 12: How many movies are a part of the same cinematic \"universe\"?"
   ]
  },
  {
   "cell_type": "code",
   "execution_count": null,
   "id": "b3fd8bc9",
   "metadata": {},
   "outputs": [],
   "source": []
  },
  {
   "cell_type": "markdown",
   "id": "8c464a9f",
   "metadata": {},
   "source": [
    "## Question 13: Do the movies on the Top 250 List tend to be nominated for several awards (i.e., more than 5)?"
   ]
  },
  {
   "cell_type": "code",
   "execution_count": null,
   "id": "20a3c876",
   "metadata": {},
   "outputs": [],
   "source": []
  },
  {
   "cell_type": "markdown",
   "id": "9ab0c984",
   "metadata": {},
   "source": [
    "## Question 14: Which distributor has been a part of the most movies in the Top 250 Movie List?"
   ]
  },
  {
   "cell_type": "code",
   "execution_count": null,
   "id": "ae62c820",
   "metadata": {},
   "outputs": [],
   "source": []
  },
  {
   "cell_type": "markdown",
   "id": "321e7ea5",
   "metadata": {},
   "source": [
    "# Potential Code for genres later on"
   ]
  },
  {
   "cell_type": "markdown",
   "id": "cf7ce6f2",
   "metadata": {},
   "source": [
    "code for font colors"
   ]
  },
  {
   "cell_type": "code",
   "execution_count": null,
   "id": "463fbb76",
   "metadata": {},
   "outputs": [],
   "source": [
    "### <font color='royalblue'> Visual (Question 2) </font>"
   ]
  },
  {
   "cell_type": "markdown",
   "id": "c60e5387",
   "metadata": {},
   "source": [
    "testers for genres"
   ]
  },
  {
   "cell_type": "code",
   "execution_count": null,
   "id": "cadd076a",
   "metadata": {},
   "outputs": [],
   "source": [
    "def condition(x):\n",
    "    return x.contains('crime')"
   ]
  },
  {
   "cell_type": "code",
   "execution_count": null,
   "id": "1a01fe97",
   "metadata": {},
   "outputs": [],
   "source": [
    "from collections import Counter"
   ]
  },
  {
   "cell_type": "code",
   "execution_count": null,
   "id": "ff52210a",
   "metadata": {},
   "outputs": [],
   "source": [
    "lst = ['crime','adventure, crime, fanstasy', 'drama', 'thriller, crime', 'crime, action', 'drama, fanstasy']\n",
    "\n",
    "# for x in lst:\n",
    "#     counts = Counter(re.findall(r'\\S*\\W*crime\\W*\\S*',lst[]))\n",
    "# counts"
   ]
  },
  {
   "cell_type": "code",
   "execution_count": null,
   "id": "329a0f88",
   "metadata": {},
   "outputs": [],
   "source": [
    "lst1 = {'genre' : ['crime','adventure, crime, fanstasy', 'drama', 'thriller, crime', 'crime, action', 'drama, fanstasy'],\n",
    "       'movie' : ['harry potter', 'lord of the rings', 'percy jackson', 'hobbit', 'game of thrones', 'house']}\n",
    "\n",
    "# counts = Counter(lst)\n",
    "# count_crime2 = counts[r'\\S*\\W*crime\\W*\\S*']"
   ]
  },
  {
   "cell_type": "code",
   "execution_count": null,
   "id": "671ae12b",
   "metadata": {
    "scrolled": false
   },
   "outputs": [],
   "source": [
    "lst_df = pd.DataFrame(lst1)\n",
    "lst_df"
   ]
  },
  {
   "cell_type": "code",
   "execution_count": null,
   "id": "efab480c",
   "metadata": {},
   "outputs": [],
   "source": [
    "print(lst_df['genre'].splitlines())"
   ]
  },
  {
   "cell_type": "code",
   "execution_count": null,
   "id": "609a7bff",
   "metadata": {},
   "outputs": [],
   "source": [
    "print(lst_df)"
   ]
  },
  {
   "cell_type": "code",
   "execution_count": null,
   "id": "7a91123d",
   "metadata": {
    "scrolled": true
   },
   "outputs": [],
   "source": [
    "lst_df[lst_df['genre'].str.contains('crime', na=False)]"
   ]
  },
  {
   "cell_type": "code",
   "execution_count": null,
   "id": "690a1fdc",
   "metadata": {},
   "outputs": [],
   "source": [
    "# #importing necessary tools\n",
    "# from functools import reduce\n",
    "\n",
    "# #defining a list of DataFrames\n",
    "# dfs = [movie, score, rt]\n",
    "\n",
    "# #merge all DataFrames into one\n",
    "# final_df = reduce(lambda  left,right: pd.merge(left,right,on=['column_name'],how='outer'), dfs)"
   ]
  }
 ],
 "metadata": {
  "kernelspec": {
   "display_name": "Python 3 (ipykernel)",
   "language": "python",
   "name": "python3"
  },
  "language_info": {
   "codemirror_mode": {
    "name": "ipython",
    "version": 3
   },
   "file_extension": ".py",
   "mimetype": "text/x-python",
   "name": "python",
   "nbconvert_exporter": "python",
   "pygments_lexer": "ipython3",
   "version": "3.9.12"
  }
 },
 "nbformat": 4,
 "nbformat_minor": 5
}
