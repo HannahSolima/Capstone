{
 "cells": [
  {
   "cell_type": "markdown",
   "id": "75c17b53",
   "metadata": {},
   "source": [
    "### Read in Data"
   ]
  },
  {
   "cell_type": "code",
   "execution_count": null,
   "id": "18704209",
   "metadata": {},
   "outputs": [],
   "source": [
    "m_df = pd.read_csv(\"../Data/IMDb_Movies.csv\")"
   ]
  },
  {
   "cell_type": "code",
   "execution_count": null,
   "id": "06d37662",
   "metadata": {},
   "outputs": [],
   "source": [
    "s_df = pd.read_csv(\"../Data/IMDb_Score.csv\")"
   ]
  },
  {
   "cell_type": "code",
   "execution_count": null,
   "id": "d0041866",
   "metadata": {},
   "outputs": [],
   "source": [
    "rt_df = pd.read_csv(\"../Data/Rotten_Tomatoes.csv\")"
   ]
  },
  {
   "cell_type": "markdown",
   "id": "4986204b",
   "metadata": {},
   "source": [
    "### How do the Top 250 Movies by IMDb compare to Rotten Tomatoes?"
   ]
  },
  {
   "cell_type": "markdown",
   "id": "090175ba",
   "metadata": {},
   "source": [
    "#### What is the average rating by genre for both IMDb and Rotten Tomatoes?"
   ]
  },
  {
   "cell_type": "code",
   "execution_count": null,
   "id": "23e1befe",
   "metadata": {},
   "outputs": [],
   "source": []
  },
  {
   "cell_type": "markdown",
   "id": "44ec7b02",
   "metadata": {},
   "source": [
    "#### Which movies won the most awards? Did they receive a high rating on IMDb? What about Rotten Tomatoes?"
   ]
  },
  {
   "cell_type": "code",
   "execution_count": null,
   "id": "24912ad0",
   "metadata": {},
   "outputs": [],
   "source": []
  },
  {
   "cell_type": "markdown",
   "id": "3ca5b257",
   "metadata": {},
   "source": [
    "#### On which site do more people tend to leave more reviews?"
   ]
  },
  {
   "cell_type": "code",
   "execution_count": null,
   "id": "8dbcae21",
   "metadata": {},
   "outputs": [],
   "source": []
  },
  {
   "cell_type": "markdown",
   "id": "2de349a2",
   "metadata": {},
   "source": [
    "### Further Analysis"
   ]
  },
  {
   "cell_type": "markdown",
   "id": "198d37b6",
   "metadata": {},
   "source": [
    "#### What is the most prevalent genre?"
   ]
  },
  {
   "cell_type": "code",
   "execution_count": null,
   "id": "297e889c",
   "metadata": {},
   "outputs": [],
   "source": []
  },
  {
   "cell_type": "markdown",
   "id": "1405af78",
   "metadata": {},
   "source": [
    "#### What is the average length of the movies?"
   ]
  },
  {
   "cell_type": "code",
   "execution_count": null,
   "id": "512211fb",
   "metadata": {},
   "outputs": [],
   "source": []
  },
  {
   "cell_type": "markdown",
   "id": "e7dc21b2",
   "metadata": {},
   "source": [
    "The longest movie?"
   ]
  },
  {
   "cell_type": "code",
   "execution_count": null,
   "id": "0af1cc8f",
   "metadata": {},
   "outputs": [],
   "source": []
  },
  {
   "cell_type": "markdown",
   "id": "5aaeebaa",
   "metadata": {},
   "source": [
    "The shortest movie?"
   ]
  },
  {
   "cell_type": "code",
   "execution_count": null,
   "id": "022e9444",
   "metadata": {},
   "outputs": [],
   "source": []
  },
  {
   "cell_type": "markdown",
   "id": "ab1cfeda",
   "metadata": {},
   "source": [
    "#### What is the average movie rating?"
   ]
  },
  {
   "cell_type": "code",
   "execution_count": null,
   "id": "8cfcd431",
   "metadata": {},
   "outputs": [],
   "source": []
  },
  {
   "cell_type": "markdown",
   "id": "513e82a9",
   "metadata": {},
   "source": [
    "#### What percentage of movies were \"approved\" with the Hayes Coded compared to newer movies with the MPAA modern rating system?"
   ]
  },
  {
   "cell_type": "code",
   "execution_count": null,
   "id": "8f5fcc57",
   "metadata": {},
   "outputs": [],
   "source": []
  },
  {
   "cell_type": "markdown",
   "id": "49946ee4",
   "metadata": {},
   "source": [
    "#### What is the range of years of the movies in the Top 250 List?"
   ]
  },
  {
   "cell_type": "code",
   "execution_count": null,
   "id": "46636dda",
   "metadata": {},
   "outputs": [],
   "source": []
  },
  {
   "cell_type": "markdown",
   "id": "7b01b7d2",
   "metadata": {},
   "source": [
    "Are there outliers?"
   ]
  },
  {
   "cell_type": "code",
   "execution_count": null,
   "id": "05c433a9",
   "metadata": {},
   "outputs": [],
   "source": []
  },
  {
   "cell_type": "markdown",
   "id": "cd5673a9",
   "metadata": {},
   "source": [
    "What decade were most films released in?"
   ]
  },
  {
   "cell_type": "code",
   "execution_count": null,
   "id": "a86a121e",
   "metadata": {},
   "outputs": [],
   "source": []
  },
  {
   "cell_type": "markdown",
   "id": "83fa0c08",
   "metadata": {},
   "source": [
    "#### Which directors appear more than once?"
   ]
  },
  {
   "cell_type": "code",
   "execution_count": null,
   "id": "160b53e4",
   "metadata": {},
   "outputs": [],
   "source": []
  },
  {
   "cell_type": "markdown",
   "id": "310daaf6",
   "metadata": {},
   "source": [
    "#### What is the average difference between critics' scores and audiences' scores on Rotten Tomotatoes?"
   ]
  },
  {
   "cell_type": "code",
   "execution_count": null,
   "id": "6eb9cf3f",
   "metadata": {},
   "outputs": [],
   "source": []
  },
  {
   "cell_type": "markdown",
   "id": "dc978c79",
   "metadata": {},
   "source": [
    "#### How do US-reviewers compare to non-US reviewers on IMDb?"
   ]
  },
  {
   "cell_type": "markdown",
   "id": "cb1f945e",
   "metadata": {},
   "source": [
    "Who tends to write more reviews?"
   ]
  },
  {
   "cell_type": "code",
   "execution_count": null,
   "id": "d5222889",
   "metadata": {},
   "outputs": [],
   "source": []
  },
  {
   "cell_type": "markdown",
   "id": "3a2f9ce7",
   "metadata": {},
   "source": [
    "What is the average scores between the two?"
   ]
  },
  {
   "cell_type": "code",
   "execution_count": null,
   "id": "7592057d",
   "metadata": {},
   "outputs": [],
   "source": []
  },
  {
   "cell_type": "markdown",
   "id": "40d482a9",
   "metadata": {},
   "source": [
    "What genre interests US-reviewers more? What about non-US reviewers?"
   ]
  },
  {
   "cell_type": "code",
   "execution_count": null,
   "id": "7f429ebe",
   "metadata": {},
   "outputs": [],
   "source": []
  },
  {
   "cell_type": "markdown",
   "id": "07ecaa15",
   "metadata": {},
   "source": [
    "#### How many movies are a part of the same cinematic \"universe\"?"
   ]
  },
  {
   "cell_type": "code",
   "execution_count": null,
   "id": "e05dfc98",
   "metadata": {},
   "outputs": [],
   "source": []
  },
  {
   "cell_type": "markdown",
   "id": "4b86eea4",
   "metadata": {},
   "source": [
    "#### Do the movies on the Top 250 List tend to be nominated for several awards (i.e., more than 5)?"
   ]
  },
  {
   "cell_type": "code",
   "execution_count": null,
   "id": "8e552bfe",
   "metadata": {},
   "outputs": [],
   "source": []
  },
  {
   "cell_type": "code",
   "execution_count": null,
   "id": "4dc53f68",
   "metadata": {},
   "outputs": [],
   "source": []
  }
 ],
 "metadata": {
  "kernelspec": {
   "display_name": "Python 3 (ipykernel)",
   "language": "python",
   "name": "python3"
  },
  "language_info": {
   "codemirror_mode": {
    "name": "ipython",
    "version": 3
   },
   "file_extension": ".py",
   "mimetype": "text/x-python",
   "name": "python",
   "nbconvert_exporter": "python",
   "pygments_lexer": "ipython3",
   "version": "3.9.12"
  }
 },
 "nbformat": 4,
 "nbformat_minor": 5
}
