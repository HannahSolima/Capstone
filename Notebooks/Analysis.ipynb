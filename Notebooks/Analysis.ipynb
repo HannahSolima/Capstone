{
 "cells": [
  {
   "cell_type": "code",
   "execution_count": 1,
   "id": "653a613c",
   "metadata": {},
   "outputs": [],
   "source": [
    "import requests\n",
    "import re\n",
    "from bs4 import BeautifulSoup as BS\n",
    "from IPython.core.display import HTML\n",
    "import pandas as pd\n",
    "import numpy as np\n",
    "import matplotlib.pyplot as plt\n",
    "import seaborn as sns\n",
    "%matplotlib inline"
   ]
  },
  {
   "cell_type": "markdown",
   "id": "0056c6d5",
   "metadata": {},
   "source": [
    "### Read in Data"
   ]
  },
  {
   "cell_type": "code",
   "execution_count": 2,
   "id": "ea25d1cc",
   "metadata": {},
   "outputs": [],
   "source": [
    "# movie = pd.read_csv(\"../Data/IMDb_Movies.csv\")"
   ]
  },
  {
   "cell_type": "code",
   "execution_count": 3,
   "id": "8cb8aa66",
   "metadata": {},
   "outputs": [],
   "source": [
    "# score = pd.read_csv(\"../Data/IMDb_Score.csv\")"
   ]
  },
  {
   "cell_type": "code",
   "execution_count": 4,
   "id": "dc496e65",
   "metadata": {},
   "outputs": [],
   "source": [
    "# rt = pd.read_csv(\"../Data/Rotten_Tomatoes.csv\")"
   ]
  },
  {
   "cell_type": "markdown",
   "id": "860a48eb",
   "metadata": {},
   "source": [
    "### How do the Top 250 Movies by IMDb compare to Rotten Tomatoes?"
   ]
  },
  {
   "cell_type": "markdown",
   "id": "87e1c26a",
   "metadata": {},
   "source": [
    "#### What is the average rating by genre for both IMDb and Rotten Tomatoes?"
   ]
  },
  {
   "cell_type": "code",
   "execution_count": null,
   "id": "ce918100",
   "metadata": {},
   "outputs": [],
   "source": []
  },
  {
   "cell_type": "markdown",
   "id": "0b713e1f",
   "metadata": {},
   "source": [
    "#### Which movies won the most awards? Did they receive a high rating on IMDb? What about Rotten Tomatoes?"
   ]
  },
  {
   "cell_type": "code",
   "execution_count": null,
   "id": "6dcc9eef",
   "metadata": {},
   "outputs": [],
   "source": []
  },
  {
   "cell_type": "markdown",
   "id": "a9acbb73",
   "metadata": {},
   "source": [
    "#### On which site do more people tend to leave more reviews?"
   ]
  },
  {
   "cell_type": "code",
   "execution_count": null,
   "id": "181674a3",
   "metadata": {},
   "outputs": [],
   "source": []
  },
  {
   "cell_type": "markdown",
   "id": "b59899bd",
   "metadata": {},
   "source": [
    "### Further Analysis"
   ]
  },
  {
   "cell_type": "markdown",
   "id": "f134c77f",
   "metadata": {},
   "source": [
    "#### What is the most prevalent genre?"
   ]
  },
  {
   "cell_type": "code",
   "execution_count": null,
   "id": "09ff0478",
   "metadata": {},
   "outputs": [],
   "source": []
  },
  {
   "cell_type": "markdown",
   "id": "766a138a",
   "metadata": {},
   "source": [
    "#### What is the average length of the movies?"
   ]
  },
  {
   "cell_type": "code",
   "execution_count": null,
   "id": "b75ed589",
   "metadata": {},
   "outputs": [],
   "source": []
  },
  {
   "cell_type": "markdown",
   "id": "86c711ad",
   "metadata": {},
   "source": [
    "The longest movie?"
   ]
  },
  {
   "cell_type": "code",
   "execution_count": null,
   "id": "ac76bd46",
   "metadata": {},
   "outputs": [],
   "source": []
  },
  {
   "cell_type": "markdown",
   "id": "be03371d",
   "metadata": {},
   "source": [
    "The shortest movie?"
   ]
  },
  {
   "cell_type": "code",
   "execution_count": null,
   "id": "e43fd455",
   "metadata": {},
   "outputs": [],
   "source": []
  },
  {
   "cell_type": "markdown",
   "id": "040e9365",
   "metadata": {},
   "source": [
    "#### What is the average movie rating?"
   ]
  },
  {
   "cell_type": "code",
   "execution_count": null,
   "id": "0ab37a81",
   "metadata": {},
   "outputs": [],
   "source": []
  },
  {
   "cell_type": "markdown",
   "id": "7d805f31",
   "metadata": {},
   "source": [
    "#### What percentage of movies were \"approved\" with the Hayes Coded compared to newer movies with the MPAA modern rating system?"
   ]
  },
  {
   "cell_type": "code",
   "execution_count": null,
   "id": "e5114817",
   "metadata": {},
   "outputs": [],
   "source": []
  },
  {
   "cell_type": "markdown",
   "id": "c1248fcb",
   "metadata": {},
   "source": [
    "#### What is the range of years of the movies in the Top 250 List?"
   ]
  },
  {
   "cell_type": "code",
   "execution_count": null,
   "id": "6fc1e726",
   "metadata": {},
   "outputs": [],
   "source": []
  },
  {
   "cell_type": "markdown",
   "id": "726fce5d",
   "metadata": {},
   "source": [
    "Are there outliers?"
   ]
  },
  {
   "cell_type": "code",
   "execution_count": null,
   "id": "e4499412",
   "metadata": {},
   "outputs": [],
   "source": []
  },
  {
   "cell_type": "markdown",
   "id": "3540a4e5",
   "metadata": {},
   "source": [
    "What decade were most films released in?"
   ]
  },
  {
   "cell_type": "code",
   "execution_count": null,
   "id": "b618474e",
   "metadata": {},
   "outputs": [],
   "source": []
  },
  {
   "cell_type": "markdown",
   "id": "1b19ef01",
   "metadata": {},
   "source": [
    "#### Which directors appear more than once?"
   ]
  },
  {
   "cell_type": "code",
   "execution_count": null,
   "id": "5b5dffa2",
   "metadata": {},
   "outputs": [],
   "source": []
  },
  {
   "cell_type": "markdown",
   "id": "c33fa017",
   "metadata": {},
   "source": [
    "#### What is the average difference between critics' scores and audiences' scores on Rotten Tomotatoes?"
   ]
  },
  {
   "cell_type": "code",
   "execution_count": null,
   "id": "5e49fd04",
   "metadata": {},
   "outputs": [],
   "source": []
  },
  {
   "cell_type": "markdown",
   "id": "47385f24",
   "metadata": {},
   "source": [
    "#### How do US-reviewers compare to non-US reviewers on IMDb?"
   ]
  },
  {
   "cell_type": "markdown",
   "id": "5bc11534",
   "metadata": {},
   "source": [
    "Who tends to write more reviews?"
   ]
  },
  {
   "cell_type": "code",
   "execution_count": null,
   "id": "a461da6c",
   "metadata": {},
   "outputs": [],
   "source": []
  },
  {
   "cell_type": "markdown",
   "id": "40d0ae94",
   "metadata": {},
   "source": [
    "What is the average scores between the two?"
   ]
  },
  {
   "cell_type": "code",
   "execution_count": null,
   "id": "6a7a6aaf",
   "metadata": {},
   "outputs": [],
   "source": []
  },
  {
   "cell_type": "markdown",
   "id": "1220e7eb",
   "metadata": {},
   "source": [
    "What genre interests US-reviewers more? What about non-US reviewers?"
   ]
  },
  {
   "cell_type": "code",
   "execution_count": null,
   "id": "2a79a6a6",
   "metadata": {},
   "outputs": [],
   "source": []
  },
  {
   "cell_type": "markdown",
   "id": "9c12ef77",
   "metadata": {},
   "source": [
    "NOTE: important to note that the term US and non-US is based on the country the reviewer left the review...does not necessarily indicate that reviewers' citizenship"
   ]
  },
  {
   "cell_type": "markdown",
   "id": "0657db61",
   "metadata": {},
   "source": [
    "#### How many movies are a part of the same cinematic \"universe\"?"
   ]
  },
  {
   "cell_type": "code",
   "execution_count": null,
   "id": "9d64401e",
   "metadata": {},
   "outputs": [],
   "source": []
  },
  {
   "cell_type": "markdown",
   "id": "f9b2c737",
   "metadata": {},
   "source": [
    "#### Do the movies on the Top 250 List tend to be nominated for several awards (i.e., more than 5)?"
   ]
  },
  {
   "cell_type": "code",
   "execution_count": null,
   "id": "a89247e4",
   "metadata": {},
   "outputs": [],
   "source": []
  },
  {
   "cell_type": "markdown",
   "id": "c498b567",
   "metadata": {},
   "source": [
    "#### Which distributor has been a part of the most movies in the Top 250 Movie List?"
   ]
  },
  {
   "cell_type": "code",
   "execution_count": null,
   "id": "ec2912dd",
   "metadata": {},
   "outputs": [],
   "source": []
  },
  {
   "cell_type": "markdown",
   "id": "e1f4298a",
   "metadata": {},
   "source": [
    "# Potential Code for genres later on"
   ]
  },
  {
   "cell_type": "code",
   "execution_count": 5,
   "id": "5a2dae62",
   "metadata": {},
   "outputs": [],
   "source": [
    "from collections import Counter"
   ]
  },
  {
   "cell_type": "code",
   "execution_count": 6,
   "id": "8dbeafcd",
   "metadata": {},
   "outputs": [],
   "source": [
    "lst = ['crime','adventure, crime, fanstasy', 'drama', 'thriller, crime', 'crime, action', 'drama, fanstasy']\n",
    "\n",
    "# for x in lst:\n",
    "#     counts = Counter(re.findall(r'\\S*\\W*crime\\W*\\S*',lst[]))\n",
    "# counts"
   ]
  },
  {
   "cell_type": "code",
   "execution_count": 20,
   "id": "9575dd29",
   "metadata": {},
   "outputs": [],
   "source": [
    "lst1 = {'genre' : ['crime','adventure, crime, fanstasy', 'drama', 'thriller, crime', 'crime, action', 'drama, fanstasy'],\n",
    "       'movie' : ['harry potter', 'lord of the rings', 'percy jackson', 'hobbit', 'game of thrones', 'house']}\n",
    "\n",
    "# counts = Counter(lst)\n",
    "# count_crime2 = counts[r'\\S*\\W*crime\\W*\\S*']"
   ]
  },
  {
   "cell_type": "code",
   "execution_count": 22,
   "id": "ee86dbd6",
   "metadata": {
    "scrolled": false
   },
   "outputs": [
    {
     "data": {
      "text/html": [
       "<div>\n",
       "<style scoped>\n",
       "    .dataframe tbody tr th:only-of-type {\n",
       "        vertical-align: middle;\n",
       "    }\n",
       "\n",
       "    .dataframe tbody tr th {\n",
       "        vertical-align: top;\n",
       "    }\n",
       "\n",
       "    .dataframe thead th {\n",
       "        text-align: right;\n",
       "    }\n",
       "</style>\n",
       "<table border=\"1\" class=\"dataframe\">\n",
       "  <thead>\n",
       "    <tr style=\"text-align: right;\">\n",
       "      <th></th>\n",
       "      <th>genre</th>\n",
       "      <th>movie</th>\n",
       "    </tr>\n",
       "  </thead>\n",
       "  <tbody>\n",
       "    <tr>\n",
       "      <th>0</th>\n",
       "      <td>crime</td>\n",
       "      <td>harry potter</td>\n",
       "    </tr>\n",
       "    <tr>\n",
       "      <th>1</th>\n",
       "      <td>adventure, crime, fanstasy</td>\n",
       "      <td>lord of the rings</td>\n",
       "    </tr>\n",
       "    <tr>\n",
       "      <th>2</th>\n",
       "      <td>drama</td>\n",
       "      <td>percy jackson</td>\n",
       "    </tr>\n",
       "    <tr>\n",
       "      <th>3</th>\n",
       "      <td>thriller, crime</td>\n",
       "      <td>hobbit</td>\n",
       "    </tr>\n",
       "    <tr>\n",
       "      <th>4</th>\n",
       "      <td>crime, action</td>\n",
       "      <td>game of thrones</td>\n",
       "    </tr>\n",
       "    <tr>\n",
       "      <th>5</th>\n",
       "      <td>drama, fanstasy</td>\n",
       "      <td>house</td>\n",
       "    </tr>\n",
       "  </tbody>\n",
       "</table>\n",
       "</div>"
      ],
      "text/plain": [
       "                        genre              movie\n",
       "0                       crime       harry potter\n",
       "1  adventure, crime, fanstasy  lord of the rings\n",
       "2                       drama      percy jackson\n",
       "3             thriller, crime             hobbit\n",
       "4               crime, action    game of thrones\n",
       "5             drama, fanstasy              house"
      ]
     },
     "execution_count": 22,
     "metadata": {},
     "output_type": "execute_result"
    }
   ],
   "source": [
    "lst_df = pd.DataFrame(lst1)\n",
    "lst_df"
   ]
  },
  {
   "cell_type": "code",
   "execution_count": 17,
   "id": "711ed058",
   "metadata": {},
   "outputs": [
    {
     "name": "stdout",
     "output_type": "stream",
     "text": [
      "None\n"
     ]
    }
   ],
   "source": [
    "print(lst_df)"
   ]
  },
  {
   "cell_type": "code",
   "execution_count": 23,
   "id": "46adfd61",
   "metadata": {},
   "outputs": [
    {
     "data": {
      "text/html": [
       "<div>\n",
       "<style scoped>\n",
       "    .dataframe tbody tr th:only-of-type {\n",
       "        vertical-align: middle;\n",
       "    }\n",
       "\n",
       "    .dataframe tbody tr th {\n",
       "        vertical-align: top;\n",
       "    }\n",
       "\n",
       "    .dataframe thead th {\n",
       "        text-align: right;\n",
       "    }\n",
       "</style>\n",
       "<table border=\"1\" class=\"dataframe\">\n",
       "  <thead>\n",
       "    <tr style=\"text-align: right;\">\n",
       "      <th></th>\n",
       "      <th>genre</th>\n",
       "      <th>movie</th>\n",
       "    </tr>\n",
       "  </thead>\n",
       "  <tbody>\n",
       "    <tr>\n",
       "      <th>0</th>\n",
       "      <td>crime</td>\n",
       "      <td>harry potter</td>\n",
       "    </tr>\n",
       "    <tr>\n",
       "      <th>1</th>\n",
       "      <td>adventure, crime, fanstasy</td>\n",
       "      <td>lord of the rings</td>\n",
       "    </tr>\n",
       "    <tr>\n",
       "      <th>3</th>\n",
       "      <td>thriller, crime</td>\n",
       "      <td>hobbit</td>\n",
       "    </tr>\n",
       "    <tr>\n",
       "      <th>4</th>\n",
       "      <td>crime, action</td>\n",
       "      <td>game of thrones</td>\n",
       "    </tr>\n",
       "  </tbody>\n",
       "</table>\n",
       "</div>"
      ],
      "text/plain": [
       "                        genre              movie\n",
       "0                       crime       harry potter\n",
       "1  adventure, crime, fanstasy  lord of the rings\n",
       "3             thriller, crime             hobbit\n",
       "4               crime, action    game of thrones"
      ]
     },
     "execution_count": 23,
     "metadata": {},
     "output_type": "execute_result"
    }
   ],
   "source": [
    "lst_df[lst_df['genre'].str.contains('crime', na=False)]"
   ]
  }
 ],
 "metadata": {
  "kernelspec": {
   "display_name": "Python 3 (ipykernel)",
   "language": "python",
   "name": "python3"
  },
  "language_info": {
   "codemirror_mode": {
    "name": "ipython",
    "version": 3
   },
   "file_extension": ".py",
   "mimetype": "text/x-python",
   "name": "python",
   "nbconvert_exporter": "python",
   "pygments_lexer": "ipython3",
   "version": "3.9.12"
  }
 },
 "nbformat": 4,
 "nbformat_minor": 5
}
