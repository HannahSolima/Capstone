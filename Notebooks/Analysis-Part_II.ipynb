{
 "cells": [
  {
   "cell_type": "code",
   "execution_count": 1,
   "id": "0274807a",
   "metadata": {},
   "outputs": [],
   "source": [
    "import requests\n",
    "import re\n",
    "from bs4 import BeautifulSoup as BS\n",
    "from IPython.core.display import HTML\n",
    "import pandas as pd\n",
    "import numpy as np\n",
    "import matplotlib.pyplot as plt\n",
    "import seaborn as sns\n",
    "%matplotlib inline"
   ]
  },
  {
   "cell_type": "markdown",
   "id": "dcb0f423",
   "metadata": {},
   "source": [
    "# Read in Data"
   ]
  },
  {
   "cell_type": "code",
   "execution_count": 2,
   "id": "73843780",
   "metadata": {},
   "outputs": [],
   "source": [
    "movie = pd.read_csv(\"../Data/IMDb_Movies.csv\")"
   ]
  },
  {
   "cell_type": "code",
   "execution_count": 3,
   "id": "42a943d3",
   "metadata": {},
   "outputs": [],
   "source": [
    "score = pd.read_csv(\"../Data/IMDb_Score.csv\")"
   ]
  },
  {
   "cell_type": "code",
   "execution_count": 4,
   "id": "79fab797",
   "metadata": {},
   "outputs": [],
   "source": [
    "rt = pd.read_csv(\"../Data/Rotten_Tomatoes.csv\")"
   ]
  },
  {
   "cell_type": "code",
   "execution_count": 5,
   "id": "3fa3edd5",
   "metadata": {},
   "outputs": [],
   "source": [
    "genre = pd.read_csv(\"../Data/Genre.csv\")"
   ]
  },
  {
   "cell_type": "code",
   "execution_count": 6,
   "id": "57590509",
   "metadata": {},
   "outputs": [],
   "source": [
    "dist = pd.read_csv(\"../Data/Distributor.csv\")"
   ]
  },
  {
   "cell_type": "markdown",
   "id": "431a6324",
   "metadata": {},
   "source": [
    "### Movie and RT combined"
   ]
  },
  {
   "cell_type": "code",
   "execution_count": 7,
   "id": "e0c20eed",
   "metadata": {
    "scrolled": true
   },
   "outputs": [],
   "source": [
    "m_rt = movie.merge(rt, how = 'outer', on = 'Title_ID')"
   ]
  },
  {
   "cell_type": "markdown",
   "id": "e6210242",
   "metadata": {},
   "source": [
    "### Movie and Score Combined"
   ]
  },
  {
   "cell_type": "code",
   "execution_count": 8,
   "id": "9976cf78",
   "metadata": {},
   "outputs": [],
   "source": [
    "m_s = movie.merge(score, how = 'outer', on = 'Score_ID')"
   ]
  },
  {
   "cell_type": "markdown",
   "id": "6aedb3cf",
   "metadata": {},
   "source": [
    "### Movie, Score, and RT in One DataFrame"
   ]
  },
  {
   "cell_type": "code",
   "execution_count": 9,
   "id": "08938388",
   "metadata": {},
   "outputs": [],
   "source": [
    "all_df = m_rt.merge(score, how = \"left\", on = \"Score_ID\")"
   ]
  },
  {
   "cell_type": "markdown",
   "id": "19daf186",
   "metadata": {},
   "source": [
    "### Movie and Genre"
   ]
  },
  {
   "cell_type": "code",
   "execution_count": 10,
   "id": "bfcb82d3",
   "metadata": {},
   "outputs": [],
   "source": [
    "m_g = movie.merge(genre, how = 'inner', on = 'Title_ID')"
   ]
  },
  {
   "cell_type": "markdown",
   "id": "104626f3",
   "metadata": {},
   "source": [
    "### Movie, Score, and RT in One DataFrame"
   ]
  },
  {
   "cell_type": "code",
   "execution_count": 11,
   "id": "7d2851be",
   "metadata": {},
   "outputs": [],
   "source": [
    "m_d = movie.merge(dist, how = 'inner', on = 'Title_ID')"
   ]
  },
  {
   "cell_type": "markdown",
   "id": "153c7d83",
   "metadata": {},
   "source": [
    "# Further Analysis"
   ]
  },
  {
   "cell_type": "markdown",
   "id": "93e72430",
   "metadata": {},
   "source": [
    "## Question 5: What is the average length of the movies?"
   ]
  },
  {
   "cell_type": "code",
   "execution_count": 12,
   "id": "08083a98",
   "metadata": {},
   "outputs": [
    {
     "data": {
      "text/plain": [
       "128.964"
      ]
     },
     "execution_count": 12,
     "metadata": {},
     "output_type": "execute_result"
    }
   ],
   "source": [
    "all_df['Runtime'].mean()"
   ]
  },
  {
   "cell_type": "markdown",
   "id": "4f42a3d9",
   "metadata": {},
   "source": [
    "#### The longest movie?"
   ]
  },
  {
   "cell_type": "code",
   "execution_count": 13,
   "id": "f7900e66",
   "metadata": {},
   "outputs": [
    {
     "data": {
      "text/html": [
       "<div>\n",
       "<style scoped>\n",
       "    .dataframe tbody tr th:only-of-type {\n",
       "        vertical-align: middle;\n",
       "    }\n",
       "\n",
       "    .dataframe tbody tr th {\n",
       "        vertical-align: top;\n",
       "    }\n",
       "\n",
       "    .dataframe thead th {\n",
       "        text-align: right;\n",
       "    }\n",
       "</style>\n",
       "<table border=\"1\" class=\"dataframe\">\n",
       "  <thead>\n",
       "    <tr style=\"text-align: right;\">\n",
       "      <th></th>\n",
       "      <th>Title_ID</th>\n",
       "      <th>Title</th>\n",
       "      <th>Director</th>\n",
       "      <th>Rating</th>\n",
       "      <th>Runtime</th>\n",
       "      <th>Release_Year</th>\n",
       "      <th>Award_Noms</th>\n",
       "      <th>Award_Wins</th>\n",
       "      <th>Score_ID</th>\n",
       "      <th>Tomatometer</th>\n",
       "      <th>...</th>\n",
       "      <th>US_Box_Int</th>\n",
       "      <th>IMDb_Score</th>\n",
       "      <th>Audience_Reviews</th>\n",
       "      <th>US_Users</th>\n",
       "      <th>Non_US_Users</th>\n",
       "      <th>Male_Reviews</th>\n",
       "      <th>Female_Reviews</th>\n",
       "      <th>Male_Score</th>\n",
       "      <th>Female_Score</th>\n",
       "      <th>IMDb_Score_Pct</th>\n",
       "    </tr>\n",
       "  </thead>\n",
       "  <tbody>\n",
       "    <tr>\n",
       "      <th>157</th>\n",
       "      <td>1776158</td>\n",
       "      <td>Gone with the Wind</td>\n",
       "      <td>Victor Fleming</td>\n",
       "      <td>Approved</td>\n",
       "      <td>238</td>\n",
       "      <td>1939</td>\n",
       "      <td>12</td>\n",
       "      <td>22</td>\n",
       "      <td>704158</td>\n",
       "      <td>90</td>\n",
       "      <td>...</td>\n",
       "      <td>19870000.0</td>\n",
       "      <td>8.2</td>\n",
       "      <td>316204</td>\n",
       "      <td>96524</td>\n",
       "      <td>174650</td>\n",
       "      <td>152540</td>\n",
       "      <td>77476</td>\n",
       "      <td>8.1</td>\n",
       "      <td>8.5</td>\n",
       "      <td>82</td>\n",
       "    </tr>\n",
       "  </tbody>\n",
       "</table>\n",
       "<p>1 rows × 26 columns</p>\n",
       "</div>"
      ],
      "text/plain": [
       "     Title_ID               Title        Director    Rating  Runtime  \\\n",
       "157   1776158  Gone with the Wind  Victor Fleming  Approved      238   \n",
       "\n",
       "     Release_Year  Award_Noms  Award_Wins  Score_ID  Tomatometer  ...  \\\n",
       "157          1939          12          22    704158           90  ...   \n",
       "\n",
       "     US_Box_Int  IMDb_Score Audience_Reviews US_Users Non_US_Users  \\\n",
       "157  19870000.0         8.2           316204    96524       174650   \n",
       "\n",
       "     Male_Reviews  Female_Reviews  Male_Score  Female_Score  IMDb_Score_Pct  \n",
       "157        152540           77476         8.1           8.5              82  \n",
       "\n",
       "[1 rows x 26 columns]"
      ]
     },
     "execution_count": 13,
     "metadata": {},
     "output_type": "execute_result"
    }
   ],
   "source": [
    "my_max = all_df.nlargest(1,'Runtime')\n",
    "my_max"
   ]
  },
  {
   "cell_type": "markdown",
   "id": "07d6e6ed",
   "metadata": {},
   "source": [
    "#### The shortest movie?"
   ]
  },
  {
   "cell_type": "code",
   "execution_count": 14,
   "id": "cf9d5f3c",
   "metadata": {},
   "outputs": [
    {
     "data": {
      "text/html": [
       "<div>\n",
       "<style scoped>\n",
       "    .dataframe tbody tr th:only-of-type {\n",
       "        vertical-align: middle;\n",
       "    }\n",
       "\n",
       "    .dataframe tbody tr th {\n",
       "        vertical-align: top;\n",
       "    }\n",
       "\n",
       "    .dataframe thead th {\n",
       "        text-align: right;\n",
       "    }\n",
       "</style>\n",
       "<table border=\"1\" class=\"dataframe\">\n",
       "  <thead>\n",
       "    <tr style=\"text-align: right;\">\n",
       "      <th></th>\n",
       "      <th>Title_ID</th>\n",
       "      <th>Title</th>\n",
       "      <th>Director</th>\n",
       "      <th>Rating</th>\n",
       "      <th>Runtime</th>\n",
       "      <th>Release_Year</th>\n",
       "      <th>Award_Noms</th>\n",
       "      <th>Award_Wins</th>\n",
       "      <th>Score_ID</th>\n",
       "      <th>Tomatometer</th>\n",
       "      <th>...</th>\n",
       "      <th>US_Box_Int</th>\n",
       "      <th>IMDb_Score</th>\n",
       "      <th>Audience_Reviews</th>\n",
       "      <th>US_Users</th>\n",
       "      <th>Non_US_Users</th>\n",
       "      <th>Male_Reviews</th>\n",
       "      <th>Female_Reviews</th>\n",
       "      <th>Male_Score</th>\n",
       "      <th>Female_Score</th>\n",
       "      <th>IMDb_Score_Pct</th>\n",
       "    </tr>\n",
       "  </thead>\n",
       "  <tbody>\n",
       "    <tr>\n",
       "      <th>194</th>\n",
       "      <td>1776195</td>\n",
       "      <td>Sherlock Jr.</td>\n",
       "      <td>Buster Keaton</td>\n",
       "      <td>Approved</td>\n",
       "      <td>45</td>\n",
       "      <td>1924</td>\n",
       "      <td>0</td>\n",
       "      <td>2</td>\n",
       "      <td>704195</td>\n",
       "      <td>93</td>\n",
       "      <td>...</td>\n",
       "      <td>0.0</td>\n",
       "      <td>8.2</td>\n",
       "      <td>50588</td>\n",
       "      <td>13444</td>\n",
       "      <td>32805</td>\n",
       "      <td>31616</td>\n",
       "      <td>4935</td>\n",
       "      <td>8.2</td>\n",
       "      <td>8.2</td>\n",
       "      <td>82</td>\n",
       "    </tr>\n",
       "  </tbody>\n",
       "</table>\n",
       "<p>1 rows × 26 columns</p>\n",
       "</div>"
      ],
      "text/plain": [
       "     Title_ID         Title       Director    Rating  Runtime  Release_Year  \\\n",
       "194   1776195  Sherlock Jr.  Buster Keaton  Approved       45          1924   \n",
       "\n",
       "     Award_Noms  Award_Wins  Score_ID  Tomatometer  ...  US_Box_Int  \\\n",
       "194           0           2    704195           93  ...         0.0   \n",
       "\n",
       "     IMDb_Score Audience_Reviews US_Users Non_US_Users  Male_Reviews  \\\n",
       "194         8.2            50588    13444        32805         31616   \n",
       "\n",
       "     Female_Reviews  Male_Score  Female_Score  IMDb_Score_Pct  \n",
       "194            4935         8.2           8.2              82  \n",
       "\n",
       "[1 rows x 26 columns]"
      ]
     },
     "execution_count": 14,
     "metadata": {},
     "output_type": "execute_result"
    }
   ],
   "source": [
    "my_min = all_df.nsmallest(1,'Runtime')\n",
    "my_min"
   ]
  },
  {
   "cell_type": "markdown",
   "id": "da2b7725",
   "metadata": {},
   "source": [
    "## Question 6: What is the average movie rating?"
   ]
  },
  {
   "cell_type": "code",
   "execution_count": 21,
   "id": "cc90f335",
   "metadata": {},
   "outputs": [
    {
     "data": {
      "text/html": [
       "<div>\n",
       "<style scoped>\n",
       "    .dataframe tbody tr th:only-of-type {\n",
       "        vertical-align: middle;\n",
       "    }\n",
       "\n",
       "    .dataframe tbody tr th {\n",
       "        vertical-align: top;\n",
       "    }\n",
       "\n",
       "    .dataframe thead th {\n",
       "        text-align: right;\n",
       "    }\n",
       "</style>\n",
       "<table border=\"1\" class=\"dataframe\">\n",
       "  <thead>\n",
       "    <tr style=\"text-align: right;\">\n",
       "      <th></th>\n",
       "      <th>Rating</th>\n",
       "      <th>Count</th>\n",
       "      <th>Average</th>\n",
       "    </tr>\n",
       "  </thead>\n",
       "  <tbody>\n",
       "    <tr>\n",
       "      <th>0</th>\n",
       "      <td>R</td>\n",
       "      <td>101</td>\n",
       "      <td>40.4</td>\n",
       "    </tr>\n",
       "    <tr>\n",
       "      <th>1</th>\n",
       "      <td>PG</td>\n",
       "      <td>38</td>\n",
       "      <td>15.2</td>\n",
       "    </tr>\n",
       "    <tr>\n",
       "      <th>2</th>\n",
       "      <td>PG-13</td>\n",
       "      <td>34</td>\n",
       "      <td>13.6</td>\n",
       "    </tr>\n",
       "    <tr>\n",
       "      <th>3</th>\n",
       "      <td>Approved</td>\n",
       "      <td>29</td>\n",
       "      <td>11.6</td>\n",
       "    </tr>\n",
       "    <tr>\n",
       "      <th>4</th>\n",
       "      <td>Not Rated</td>\n",
       "      <td>25</td>\n",
       "      <td>10.0</td>\n",
       "    </tr>\n",
       "    <tr>\n",
       "      <th>5</th>\n",
       "      <td>G</td>\n",
       "      <td>19</td>\n",
       "      <td>7.6</td>\n",
       "    </tr>\n",
       "  </tbody>\n",
       "</table>\n",
       "</div>"
      ],
      "text/plain": [
       "      Rating  Count  Average\n",
       "0          R    101     40.4\n",
       "1         PG     38     15.2\n",
       "2      PG-13     34     13.6\n",
       "3   Approved     29     11.6\n",
       "4  Not Rated     25     10.0\n",
       "5          G     19      7.6"
      ]
     },
     "execution_count": 21,
     "metadata": {},
     "output_type": "execute_result"
    }
   ],
   "source": [
    "avg_rating = pd.DataFrame(all_df['Rating'].value_counts()).reset_index()\n",
    "avg_rating = avg_rating.rename(columns = {'index':'Rating','Rating':'Count'})\n",
    "avg_rating['Average'] = round((avg_rating['Count']/avg_rating['Count'].sum())*100,2)\n",
    "\n",
    "#dropping values that have count of 1\n",
    "avg_drop1 = avg_rating[0:6]\n",
    "avg_drop1"
   ]
  },
  {
   "cell_type": "markdown",
   "id": "a4d210f5",
   "metadata": {},
   "source": [
    "Graph for AVG Rating"
   ]
  },
  {
   "cell_type": "code",
   "execution_count": null,
   "id": "1f5838ba",
   "metadata": {},
   "outputs": [],
   "source": []
  },
  {
   "cell_type": "markdown",
   "id": "69ed65fb",
   "metadata": {},
   "source": [
    "## Question 7: What percentage of movies were \"approved\" with the Hayes Coded compared to newer movies with the MPAA modern rating system?"
   ]
  },
  {
   "cell_type": "code",
   "execution_count": null,
   "id": "8e7de002",
   "metadata": {},
   "outputs": [],
   "source": []
  },
  {
   "cell_type": "markdown",
   "id": "6762e83a",
   "metadata": {},
   "source": [
    "## Question 8: What is the range of years of the movies in the Top 250 List?"
   ]
  },
  {
   "cell_type": "code",
   "execution_count": null,
   "id": "b78b4a77",
   "metadata": {},
   "outputs": [],
   "source": []
  },
  {
   "cell_type": "markdown",
   "id": "be89a1f6",
   "metadata": {},
   "source": [
    "#### What is the distribution of years?"
   ]
  },
  {
   "cell_type": "code",
   "execution_count": 55,
   "id": "e3bede7d",
   "metadata": {},
   "outputs": [
    {
     "data": {
      "text/plain": [
       "''"
      ]
     },
     "execution_count": 55,
     "metadata": {},
     "output_type": "execute_result"
    },
    {
     "data": {
      "image/png": "[encoded data removed]",
      "text/plain": [
       "<Figure size 1440x1080 with 1 Axes>"
      ]
     },
     "metadata": {
      "needs_background": "light"
     },
     "output_type": "display_data"
    }
   ],
   "source": [
    "# Bold\n",
    "plt.rcParams[\"font.weight\"] = \"bold\"\n",
    "plt.rcParams[\"axes.labelweight\"] = \"bold\"\n",
    "\n",
    "# Define plot size\n",
    "plt.rcParams['figure.figsize'] = [20, 15]\n",
    "\n",
    "plt.hist(all_df['Release_Year'], bins=20, \n",
    "         color = '#B8742D', edgecolor='#764A1D', linewidth=2)\n",
    "\n",
    "# Set the x labels\n",
    "plt.xticks(all_df['Release_Year'])\n",
    "\n",
    "\n",
    "# Set the y labels\n",
    "plt.ylim(0, 30)\n",
    "tick_val = [0,2.5,5.0,7.5,10.0,12.5,15.0,17.5,20.0,22.5,25.0,27.5,30.0]\n",
    "tick_lab = ['0','2.5','5.0','7.5','10.0','12.5','15.0','17.5','20.0','22.5','25.0','27.5','30.0']\n",
    "plt.yticks(tick_val,tick_lab, size = '18')\n",
    "\n",
    ";\n",
    "#title \n",
    "# ax.set_title('Top 10 Award Winning Movies', weight = 'bold', \n",
    "#              size = '48', x =.51, y=1.03)\n",
    "# ;"
   ]
  },
  {
   "cell_type": "code",
   "execution_count": 45,
   "id": "3f0fa487",
   "metadata": {},
   "outputs": [
    {
     "data": {
      "text/plain": [
       "(array([0.00316832, 0.00316832, 0.00158416, 0.00554455, 0.0039604 ,\n",
       "        0.00475248, 0.00712871, 0.01188119, 0.00871287, 0.00316832,\n",
       "        0.01029703, 0.00871287, 0.01108911, 0.00792079, 0.01742574,\n",
       "        0.02059406, 0.0190099 , 0.0190099 , 0.01584158, 0.0150495 ]),\n",
       " array([1921.  , 1926.05, 1931.1 , 1936.15, 1941.2 , 1946.25, 1951.3 ,\n",
       "        1956.35, 1961.4 , 1966.45, 1971.5 , 1976.55, 1981.6 , 1986.65,\n",
       "        1991.7 , 1996.75, 2001.8 , 2006.85, 2011.9 , 2016.95, 2022.  ]),\n",
       " <BarContainer object of 20 artists>)"
      ]
     },
     "execution_count": 45,
     "metadata": {},
     "output_type": "execute_result"
    },
    {
     "data": {
      "image/png": "[encoded data removed]",
      "text/plain": [
       "<Figure size 1440x1080 with 1 Axes>"
      ]
     },
     "metadata": {
      "needs_background": "light"
     },
     "output_type": "display_data"
    }
   ],
   "source": [
    "# Bold\n",
    "plt.rcParams[\"font.weight\"] = \"bold\"\n",
    "plt.rcParams[\"axes.labelweight\"] = \"bold\"\n",
    "\n",
    "# Define plot size\n",
    "plt.rcParams['figure.figsize'] = [20, 15]\n",
    "\n",
    "plt.hist(all_df['Release_Year'], bins=20, \n",
    "         color = '#B8742D', edgecolor='#764A1D', linewidth=2, density = True)"
   ]
  },
  {
   "cell_type": "markdown",
   "id": "667189f8",
   "metadata": {},
   "source": [
    "#### Are there outliers?"
   ]
  },
  {
   "cell_type": "code",
   "execution_count": null,
   "id": "1c152ed7",
   "metadata": {},
   "outputs": [],
   "source": []
  },
  {
   "cell_type": "markdown",
   "id": "6a87193f",
   "metadata": {},
   "source": [
    "#### What decade were most films released in?"
   ]
  },
  {
   "cell_type": "code",
   "execution_count": null,
   "id": "13caf8bf",
   "metadata": {},
   "outputs": [],
   "source": []
  },
  {
   "cell_type": "markdown",
   "id": "19f0091c",
   "metadata": {},
   "source": [
    "## Question 9: Which directors appear more than once?"
   ]
  },
  {
   "cell_type": "code",
   "execution_count": null,
   "id": "adcaab0f",
   "metadata": {},
   "outputs": [],
   "source": []
  },
  {
   "cell_type": "markdown",
   "id": "4b78eb91",
   "metadata": {},
   "source": [
    "## Question 10: What is the average difference between critics' scores and audiences' scores on Rotten Tomotatoes?"
   ]
  },
  {
   "cell_type": "code",
   "execution_count": null,
   "id": "96caa230",
   "metadata": {},
   "outputs": [],
   "source": []
  },
  {
   "cell_type": "markdown",
   "id": "4eb170e6",
   "metadata": {},
   "source": [
    "## Question 11: How do US-reviewers compare to non-US reviewers on IMDb?"
   ]
  },
  {
   "cell_type": "markdown",
   "id": "26ba558f",
   "metadata": {},
   "source": [
    "#### Who tends to write more reviews?"
   ]
  },
  {
   "cell_type": "code",
   "execution_count": null,
   "id": "9d42f840",
   "metadata": {},
   "outputs": [],
   "source": []
  },
  {
   "cell_type": "markdown",
   "id": "02b4b903",
   "metadata": {},
   "source": [
    "#### What is the average scores between the two?"
   ]
  },
  {
   "cell_type": "code",
   "execution_count": null,
   "id": "53fd5ac3",
   "metadata": {},
   "outputs": [],
   "source": []
  },
  {
   "cell_type": "markdown",
   "id": "fee8b343",
   "metadata": {},
   "source": [
    "#### What genre interests US-reviewers more? What about non-US reviewers?"
   ]
  },
  {
   "cell_type": "code",
   "execution_count": null,
   "id": "3c0a94d5",
   "metadata": {},
   "outputs": [],
   "source": []
  },
  {
   "cell_type": "markdown",
   "id": "05aeeef0",
   "metadata": {},
   "source": [
    "NOTE: important to note that the term US and non-US is based on the country the reviewer left the review...does not necessarily indicate that reviewers' citizenship"
   ]
  },
  {
   "cell_type": "markdown",
   "id": "3332ba3e",
   "metadata": {},
   "source": [
    "## Question 12: How many movies are a part of the same cinematic \"universe\"?"
   ]
  },
  {
   "cell_type": "code",
   "execution_count": null,
   "id": "e143ad5c",
   "metadata": {},
   "outputs": [],
   "source": []
  },
  {
   "cell_type": "markdown",
   "id": "1ec4fc48",
   "metadata": {},
   "source": [
    "## Question 13: Which distributor has been a part of the most movies in the Top 250 Movie List?"
   ]
  },
  {
   "cell_type": "code",
   "execution_count": null,
   "id": "e69d59a6",
   "metadata": {},
   "outputs": [],
   "source": []
  },
  {
   "cell_type": "markdown",
   "id": "1700cb8b",
   "metadata": {},
   "source": [
    "### Random Code for Reference"
   ]
  },
  {
   "cell_type": "markdown",
   "id": "28e27670",
   "metadata": {},
   "source": [
    "code for font colors"
   ]
  },
  {
   "cell_type": "code",
   "execution_count": null,
   "id": "9a2b7e99",
   "metadata": {},
   "outputs": [],
   "source": [
    "### <font color='royalblue'> Visual (Question 2) </font>"
   ]
  },
  {
   "cell_type": "markdown",
   "id": "835e6ea6",
   "metadata": {},
   "source": [
    "see all columns"
   ]
  },
  {
   "cell_type": "code",
   "execution_count": null,
   "id": "fb6c644d",
   "metadata": {},
   "outputs": [],
   "source": [
    "pd.set_option('display.max_columns', None)\n",
    "pd.set_option('display.max_rows', None)\n",
    "all_df"
   ]
  }
 ],
 "metadata": {
  "kernelspec": {
   "display_name": "Python 3 (ipykernel)",
   "language": "python",
   "name": "python3"
  },
  "language_info": {
   "codemirror_mode": {
    "name": "ipython",
    "version": 3
   },
   "file_extension": ".py",
   "mimetype": "text/x-python",
   "name": "python",
   "nbconvert_exporter": "python",
   "pygments_lexer": "ipython3",
   "version": "3.9.12"
  }
 },
 "nbformat": 4,
 "nbformat_minor": 5
}
