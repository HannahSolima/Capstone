{
 "cells": [
  {
   "cell_type": "code",
   "execution_count": null,
   "id": "ec458eff",
   "metadata": {},
   "outputs": [],
   "source": [
    "import requests\n",
    "from bs4 import BeautifulSoup as BS\n",
    "from IPython.core.display import HTML\n",
    "import pandas as pd\n",
    "import numpy as np\n",
    "import matplotlib.pyplot as plt\n",
    "import seaborn as sns\n",
    "%matplotlib inline"
   ]
  },
  {
   "cell_type": "code",
   "execution_count": null,
   "id": "dfb9ef9e",
   "metadata": {},
   "outputs": [],
   "source": [
    "URL = 'https://www.imdb.com/chart/top?pf_rd_m=A2FGELUUNOQJNL&pf_rd_p=470df400-70d9-4f35-bb05-8646a1195842&pf_rd_r=R7HANXM9HJ8XV2FNPN5W&pf_rd_s=right-4&pf_rd_t=15506&pf_rd_i=moviemeter&ref_=chtmvm_ql_3'\n",
    "\n",
    "response = requests.get(URL)"
   ]
  },
  {
   "cell_type": "markdown",
   "id": "586fce8f",
   "metadata": {},
   "source": [
    "#### Checking that the URL worked succesfully"
   ]
  },
  {
   "cell_type": "code",
   "execution_count": null,
   "id": "2caefe66",
   "metadata": {},
   "outputs": [],
   "source": [
    "response.status_code"
   ]
  },
  {
   "cell_type": "code",
   "execution_count": null,
   "id": "6b5a9b5c",
   "metadata": {},
   "outputs": [],
   "source": [
    "soup = BS(response.text)"
   ]
  },
  {
   "cell_type": "code",
   "execution_count": null,
   "id": "d3c4c2a7",
   "metadata": {},
   "outputs": [],
   "source": [
    "soup"
   ]
  },
  {
   "cell_type": "code",
   "execution_count": null,
   "id": "de653ca9",
   "metadata": {
    "scrolled": true
   },
   "outputs": [],
   "source": [
    "soup.find('title').text"
   ]
  },
  {
   "cell_type": "markdown",
   "id": "fb1bd967",
   "metadata": {},
   "source": [
    "#### Step 1: Find all the movie titles in IMDb's 'Top 250 Movies' list"
   ]
  },
  {
   "cell_type": "code",
   "execution_count": null,
   "id": "f315a95a",
   "metadata": {},
   "outputs": [],
   "source": [
    "title_soup = soup.findAll('td', attrs={'class':'titleColumn'})\n",
    "\n",
    "title = []\n",
    "for x in range(len(title_soup)):\n",
    "    title.append(title_soup[x].find('a').text)\n",
    "title"
   ]
  },
  {
   "cell_type": "markdown",
   "id": "8b778a9e",
   "metadata": {},
   "source": [
    "#### Step 2: Create unique ID codes for the movie titles ... where '1776' is the base and the end digit(s) change down the list corresponding to the ranking on IMDb"
   ]
  },
  {
   "cell_type": "code",
   "execution_count": null,
   "id": "5f6e7c71",
   "metadata": {},
   "outputs": [],
   "source": [
    "id = '1776'\n",
    "title_id = []\n",
    "for x in range(1,251):\n",
    "    title_id.append(id+f'{x}') \n",
    "title_id"
   ]
  },
  {
   "cell_type": "markdown",
   "id": "c169f523",
   "metadata": {},
   "source": [
    "#### Step 3: Retrieving the Release Year for each movie title "
   ]
  },
  {
   "cell_type": "code",
   "execution_count": null,
   "id": "028ff5b5",
   "metadata": {},
   "outputs": [],
   "source": [
    "year_soup = soup.findAll('span', attrs={'class':'secondaryInfo'})\n",
    "\n",
    "release_year = []\n",
    "\n",
    "for x in year_soup:\n",
    "    y = x.text.strip()\n",
    "    release_year.append(y)\n",
    "release_year"
   ]
  },
  {
   "cell_type": "code",
   "execution_count": null,
   "id": "747f1b16",
   "metadata": {},
   "outputs": [],
   "source": [
    "# creating a list comprehension to remove '()' in the years\n",
    "release_year1 = [x.strip('()') for x in release_year]\n",
    "release_year1\n",
    "#in hindsight, I probably could have done this with one code above"
   ]
  },
  {
   "cell_type": "markdown",
   "id": "9bf5a722",
   "metadata": {},
   "source": [
    "#### Step 4: Pulling out the directors for the movie titles"
   ]
  },
  {
   "cell_type": "code",
   "execution_count": null,
   "id": "89e99920",
   "metadata": {},
   "outputs": [],
   "source": [
    "dir_soup = soup.findAll('td', attrs={'class':'titleColumn'})\n",
    "\n",
    "dir_list = []\n",
    "stripped = []\n",
    "for x in range(len(dir_soup)):\n",
    "    dir_list.append(dir_soup[x].find('a').get('title'))\n",
    "    stripped.append(dir_list[x].split(' (dir.)',1)[0])\n",
    "stripped"
   ]
  },
  {
   "cell_type": "markdown",
   "id": "9255cd99",
   "metadata": {},
   "source": [
    "#### Step 'X': Creating a Pandas DataFrame for Table 'IMDb_Movies'"
   ]
  },
  {
   "cell_type": "code",
   "execution_count": null,
   "id": "d5c21f2c",
   "metadata": {},
   "outputs": [],
   "source": [
    "table = {'Title_ID': title_id, 'Title':title, 'Director': stripped, 'Release_Year': release_year1}\n",
    "\n",
    "IMDb_Movies = pd.DataFrame(table, columns=['Title_ID','Title','Director','Release_Year'])\n",
    "\n",
    "IMDb_Movies"
   ]
  },
  {
   "cell_type": "markdown",
   "id": "4e71773a",
   "metadata": {},
   "source": [
    "MONDAY <br>\n",
    "TO DO LIST <br>\n",
    "    <br> For Table 'IMDb_Movies' <br>\n",
    "        <br> - Retrieve 'Rating' <br>\n",
    "        <br> - Retrieve 'Genre' <br>\n",
    "        <br> - Retrieve 'Runtime' <br>\n",
    "    <br> For Table 'IMDb_Rating' <br>\n",
    "        <br> - Retrieve 'IMDb_Score' and create 'Score_ID' for the new table \"IMDb_Rating\" <br>"
   ]
  },
  {
   "cell_type": "code",
   "execution_count": null,
   "id": "e4b607fb",
   "metadata": {},
   "outputs": [],
   "source": []
  },
  {
   "cell_type": "code",
   "execution_count": null,
   "id": "0f46ed05",
   "metadata": {},
   "outputs": [],
   "source": []
  },
  {
   "cell_type": "code",
   "execution_count": null,
   "id": "a10d5fa8",
   "metadata": {},
   "outputs": [],
   "source": []
  }
 ],
 "metadata": {
  "kernelspec": {
   "display_name": "Python 3 (ipykernel)",
   "language": "python",
   "name": "python3"
  },
  "language_info": {
   "codemirror_mode": {
    "name": "ipython",
    "version": 3
   },
   "file_extension": ".py",
   "mimetype": "text/x-python",
   "name": "python",
   "nbconvert_exporter": "python",
   "pygments_lexer": "ipython3",
   "version": "3.9.12"
  }
 },
 "nbformat": 4,
 "nbformat_minor": 5
}
